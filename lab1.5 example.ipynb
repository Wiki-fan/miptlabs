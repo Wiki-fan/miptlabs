{
 "cells": [
  {
   "cell_type": "code",
   "execution_count": 1,
   "metadata": {
    "collapsed": true
   },
   "outputs": [],
   "source": [
    "import sympy.physics.units as u\n",
    "import sympy as sp\n",
    "import numpy as np\n",
    "import logging as log\n",
    "import functools\n",
    "import matplotlib.pyplot as plt\n",
    "%matplotlib inline\n",
    "\n",
    "#import importlib.util\n",
    "#spec = importlib.util.spec_from_file_location(\"miptlabs\", \"/full/path/to/miptlabs.py\")\n",
    "#miptlabs = importlib.util.module_from_spec(spec)\n",
    "#spec.loader.exec_module(miptlabs)\n",
    "#ml = miptlabs\n",
    "\n",
    "import miptlabs as ml\n",
    "\n",
    "import sys, importlib\n",
    "importlib.reload(log)\n",
    "log.basicConfig(level=log.INFO, format='%(asctime)s - %(levelname)s - %(message)s', stream=sys.stdout)"
   ]
  },
  {
   "cell_type": "code",
   "execution_count": 2,
   "metadata": {
    "collapsed": true
   },
   "outputs": [],
   "source": [
    "L = ml.PQ(0.5*u.m, sigma=1*u.mm, symbol='L')\n",
    "d = ml.PQ(0.3*u.mm, sigma=0.01*u.mm, symbol='d')\n",
    "M_ring = ml.PQ(740*u.mg, sigma=1*u.mg, symbol='M_ring')\n",
    "M_holder = ml.PQ(109.6*u.g, sigma=0.1*u.g, symbol='M_holder')\n",
    "M_1 = ml.PQ(494.6*u.g, sigma=0.1*u.g, symbol='M_1')\n",
    "M_2 = ml.PQ(485.2*u.g, sigma=0.1*u.g, symbol='M_2')\n",
    "M_3 = ml.PQ(494.1*u.g, sigma=0.1*u.g, symbol='M_3')"
   ]
  },
  {
   "cell_type": "code",
   "execution_count": 3,
   "metadata": {},
   "outputs": [
    {
     "data": {
      "text/plain": [
       "'1090.140000±0.173208 gram (0.000159%)'"
      ]
     },
     "execution_count": 3,
     "metadata": {},
     "output_type": "execute_result"
    }
   ],
   "source": [
    "M_tot = ml.eval(u.g, lambda M_1, M_2, M_ring, M_holder: M_1+M_2+M_ring+M_holder, M_1, M_2, M_ring, M_holder, symbol='M_tot')\n",
    "M_tot.convert(u.g)"
   ]
  },
  {
   "cell_type": "code",
   "execution_count": 4,
   "metadata": {},
   "outputs": [
    {
     "name": "stdout",
     "output_type": "stream",
     "text": [
      "0.005684*gram/centimeter\n",
      "0.00100000049999988*gram/centimeter\n",
      "0.175932529908493\n"
     ]
    },
    {
     "data": {
      "text/plain": [
       "'0.005684±0.001000 gram/centimeter (0.175933%)'"
      ]
     },
     "execution_count": 4,
     "metadata": {},
     "output_type": "execute_result"
    }
   ],
   "source": [
    "ro_l = ml.PQ(568.4*u.mg/(100*u.cm), \n",
    "             sigma=sp.sqrt((0.1*u.mg/u.kg)**2+(0.01*u.cm/u.m)**2)*u.kg/u.m, \n",
    "             symbol='ro_l', dim=u.g/u.cm) # Линейная плотность струны\n",
    "ro_l.raw_print()\n",
    "ro_l.convert(u.g/u.cm)"
   ]
  },
  {
   "cell_type": "code",
   "execution_count": 5,
   "metadata": {},
   "outputs": [],
   "source": [
    "g = ml.PQ(9.815*u.m/(u.s)**2, is_const=True, symbol='g')\n",
    "T = ml.eval(u.force, lambda M_tot, g: M_tot*g, M_tot, g, symbol='T')"
   ]
  },
  {
   "cell_type": "code",
   "execution_count": 6,
   "metadata": {},
   "outputs": [],
   "source": [
    "nu_n = lambda n, L, T, ro_l: n/(2*L)*sp.sqrt(T/ro_l)\n",
    "ml.eval(u.hz, functools.partial(nu_n, 1), L, T, ro_l)\n",
    "nu = np.array([ml.eval(u.hz, functools.partial(nu_n, i), L, T, ro_l) for i in range(1, 14)])"
   ]
  },
  {
   "cell_type": "code",
   "execution_count": 7,
   "metadata": {},
   "outputs": [
    {
     "name": "stdout",
     "output_type": "stream",
     "text": [
      "[137.201625±12.072238 hertz (0.087989%)\n",
      " 274.403250±24.144477 hertz (0.087989%)\n",
      " 411.604875±36.216715 hertz (0.087989%)\n",
      " 548.806500±48.288954 hertz (0.087989%)\n",
      " 686.008125±60.361192 hertz (0.087989%)\n",
      " 823.209750±72.433431 hertz (0.087989%)\n",
      " 960.411375±84.505669 hertz (0.087989%)\n",
      " 1097.613000±96.577907 hertz (0.087989%)\n",
      " 1234.814625±108.650146 hertz (0.087989%)\n",
      " 1372.016250±120.722384 hertz (0.087989%)\n",
      " 1509.217875±132.794623 hertz (0.087989%)\n",
      " 1646.419499±144.866861 hertz (0.087989%)\n",
      " 1783.621124±156.939100 hertz (0.087989%)]\n"
     ]
    }
   ],
   "source": [
    "print(nu)"
   ]
  },
  {
   "cell_type": "code",
   "execution_count": 8,
   "metadata": {},
   "outputs": [
    {
     "name": "stdout",
     "output_type": "stream",
     "text": [
      "[140.550000±0.010000 hertz (0.000071%)\n",
      " 423.570000±0.010000 hertz (0.000024%)\n",
      " 713.870000±0.010000 hertz (0.000014%)\n",
      " 1002.300000±0.010000 hertz (0.000010%)\n",
      " 1283.620000±0.010000 hertz (0.000008%)\n",
      " 1575.110000±0.010000 hertz (0.000006%)\n",
      " 1873.450000±0.010000 hertz (0.000005%)]\n"
     ]
    }
   ],
   "source": [
    "nu_exper = np.array([ml.PQ(val*u.hz, sigma=0.01*u.hz, dim=u.hz) for val in \n",
    "                     [140.55, 423.570, 713.87, 1002.30, 1283.62, 1575.11, 1873.45]])\n",
    "print(nu_exper)"
   ]
  },
  {
   "cell_type": "code",
   "execution_count": 9,
   "metadata": {},
   "outputs": [
    {
     "data": {
      "image/png": "[encoded data removed]",
      "text/plain": [
       "<matplotlib.figure.Figure at 0x7f4d65c9ce10>"
      ]
     },
     "metadata": {},
     "output_type": "display_data"
    }
   ],
   "source": [
    "plt.figure(figsize=(13, 7))\n",
    "grid_exper = np.arange(1., 14., 2.)\n",
    "grid_theor = np.arange(1, len(nu)+1, 1)\n",
    "ml.plt_pq(grid_exper, exper=nu_exper, grid_theor=grid_theor, theor=nu)\n",
    "plt.show()"
   ]
  },
  {
   "cell_type": "code",
   "execution_count": null,
   "metadata": {
    "collapsed": true
   },
   "outputs": [],
   "source": [
    ""
   ]
  }
 ],
 "metadata": {
  "kernelspec": {
   "display_name": "Python 3",
   "language": "python",
   "name": "python3"
  },
  "language_info": {
   "codemirror_mode": {
    "name": "ipython",
    "version": 3.0
   },
   "file_extension": ".py",
   "mimetype": "text/x-python",
   "name": "python",
   "nbconvert_exporter": "python",
   "pygments_lexer": "ipython3",
   "version": "3.6.0"
  }
 },
 "nbformat": 4,
 "nbformat_minor": 0
}