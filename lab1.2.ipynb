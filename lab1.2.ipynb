{
 "cells": [
  {
   "cell_type": "code",
   "execution_count": 1,
   "metadata": {},
   "outputs": [],
   "source": [
    "%load_ext autoreload\n",
    "%autoreload 2"
   ]
  },
  {
   "cell_type": "code",
   "execution_count": 2,
   "metadata": {},
   "outputs": [
    {
     "data": {
      "text/plain": [
       "'1.1.2.dev'"
      ]
     },
     "execution_count": 2,
     "metadata": {},
     "output_type": "execute_result"
    }
   ],
   "source": [
    "import sympy.physics.units as u\n",
    "import sympy as sp\n",
    "import numpy as np\n",
    "import logging as log\n",
    "import functools\n",
    "import matplotlib.pyplot as plt\n",
    "import seaborn\n",
    "import pandas as pd\n",
    "pd.set_option('display.max_columns', None)\n",
    "%matplotlib inline\n",
    "from IPython.display import display, HTML\n",
    "\n",
    "import importlib.util\n",
    "#spec = importlib.util.spec_from_file_location(\"miptlabs\", \"/full/path/to/miptlabs.py\")\n",
    "#miptlabs = importlib.util.module_from_spec(spec)\n",
    "#spec.loader.exec_module(miptlabs)\n",
    "#ml = miptlabs\n",
    "\n",
    "import miptlabs as ml\n",
    "importlib.reload(ml)\n",
    "\n",
    "import sys, importlib\n",
    "importlib.reload(log)\n",
    "log.basicConfig(level=log.INFO, format='LOG %(message)s', stream=sys.stdout)\n",
    "\n",
    "sp.Basic.__str__=lambda expr, **settings:ml.PQStrPrinter(settings).doprint(expr)\n",
    "\n",
    "sp.__version__"
   ]
  },
  {
   "cell_type": "code",
   "execution_count": 3,
   "metadata": {},
   "outputs": [],
   "source": [
    "def get_teslameter_error(val, diap):\n",
    "    return 2+0.1*(diap/val-1)\n",
    "mu_0 = 4*np.pi*1e-7*u.H/u.m\n",
    "g = 9.81*u.m/u.s**2"
   ]
  },
  {
   "cell_type": "code",
   "execution_count": 4,
   "metadata": {},
   "outputs": [],
   "source": [
    "data = pd.read_csv('lab1.2 table.csv')\n",
    "#display(data)\n",
    "df1 = pd.DataFrame()\n",
    "# Зависимость поля от координаты при фиксированном токе\n",
    "I = ml.PQ(0.5*u.A, sigma=0.1*u.A)\n",
    "B_diap = 20\n",
    "df1['z'] = ml.get_column(data, 'z', lambda row: ml.PQ(row['z']*u.cm, sigma=0.1*u.cm, dim=u.cm))\n",
    "df1['B'] = ml.get_column(data, 'B', lambda row: ml.PQ(row['B']*1e-3*u.tesla, \n",
    "                                                      epsilon=get_teslameter_error(row['B'], B_diap)*1e-3))\n",
    "\n",
    "# Зависимость тока от поля при фиксированном L\n",
    "df2 = pd.DataFrame()\n",
    "L = ml.PQ(4*u.cm, sigma=0.1*u.cm)\n",
    "df2['I'] = ml.get_column(data, 'I', lambda row: ml.PQ(row['I']*u.amperes, sigma=0.05*u.amperes))\n",
    "df2['B2'] = ml.get_column(data, 'B2', lambda row: ml.PQ(row['B2']*1e-3*u.tesla, sigma=0.01*1e-3*u.tesla))\n",
    "df2['B2 diap'] = ml.get_column(data, 'B2 diap', lambda row: ml.PQ(row['B2 diap']*1e-3*u.tesla, is_const=True))\n"
   ]
  },
  {
   "cell_type": "code",
   "execution_count": 5,
   "metadata": {},
   "outputs": [],
   "source": [
    "#display(data)"
   ]
  },
  {
   "cell_type": "code",
   "execution_count": 6,
   "metadata": {},
   "outputs": [
    {
     "data": {
      "text/html": [
       "<div>\n",
       "<style>\n",
       "    .dataframe thead tr:only-child th {\n",
       "        text-align: right;\n",
       "    }\n",
       "\n",
       "    .dataframe thead th {\n",
       "        text-align: left;\n",
       "    }\n",
       "\n",
       "    .dataframe tbody tr th {\n",
       "        vertical-align: top;\n",
       "    }\n",
       "</style>\n",
       "<table border=\"1\" class=\"dataframe\">\n",
       "  <thead>\n",
       "    <tr style=\"text-align: right;\">\n",
       "      <th></th>\n",
       "      <th>z</th>\n",
       "      <th>B</th>\n",
       "    </tr>\n",
       "  </thead>\n",
       "  <tbody>\n",
       "    <tr>\n",
       "      <th>0</th>\n",
       "      <td>0.00±0.10 cm (NaN%)</td>\n",
       "      <td>(784.00±1.70)*10^-5 T (0.22%)</td>\n",
       "    </tr>\n",
       "    <tr>\n",
       "      <th>1</th>\n",
       "      <td>0.50±0.10 cm (20%)</td>\n",
       "      <td>(794.00±1.70)*10^-5 T (0.22%)</td>\n",
       "    </tr>\n",
       "    <tr>\n",
       "      <th>2</th>\n",
       "      <td>1.00±0.10 cm (10%)</td>\n",
       "      <td>(804.00±1.70)*10^-5 T (0.21%)</td>\n",
       "    </tr>\n",
       "    <tr>\n",
       "      <th>3</th>\n",
       "      <td>1.50±0.10 cm (6.7%)</td>\n",
       "      <td>(810.00±1.70)*10^-5 T (0.21%)</td>\n",
       "    </tr>\n",
       "    <tr>\n",
       "      <th>4</th>\n",
       "      <td>2.00±0.10 cm (5.0%)</td>\n",
       "      <td>(816.00±1.80)*10^-5 T (0.21%)</td>\n",
       "    </tr>\n",
       "    <tr>\n",
       "      <th>5</th>\n",
       "      <td>2.50±0.10 cm (4.0%)</td>\n",
       "      <td>(819.00±1.80)*10^-5 T (0.21%)</td>\n",
       "    </tr>\n",
       "    <tr>\n",
       "      <th>6</th>\n",
       "      <td>3.00±0.10 cm (3.3%)</td>\n",
       "      <td>(822.00±1.80)*10^-5 T (0.21%)</td>\n",
       "    </tr>\n",
       "    <tr>\n",
       "      <th>7</th>\n",
       "      <td>3.50±0.10 cm (2.9%)</td>\n",
       "      <td>(824.00±1.80)*10^-5 T (0.21%)</td>\n",
       "    </tr>\n",
       "    <tr>\n",
       "      <th>8</th>\n",
       "      <td>4.00±0.10 cm (2.5%)</td>\n",
       "      <td>(825.00±1.80)*10^-5 T (0.21%)</td>\n",
       "    </tr>\n",
       "    <tr>\n",
       "      <th>9</th>\n",
       "      <td>4.50±0.10 cm (2.2%)</td>\n",
       "      <td>(824.00±1.80)*10^-5 T (0.21%)</td>\n",
       "    </tr>\n",
       "    <tr>\n",
       "      <th>10</th>\n",
       "      <td>5.00±0.10 cm (2.0%)</td>\n",
       "      <td>(821.00±1.80)*10^-5 T (0.21%)</td>\n",
       "    </tr>\n",
       "    <tr>\n",
       "      <th>11</th>\n",
       "      <td>5.50±0.10 cm (1.8%)</td>\n",
       "      <td>(819.00±1.80)*10^-5 T (0.21%)</td>\n",
       "    </tr>\n",
       "    <tr>\n",
       "      <th>12</th>\n",
       "      <td>6.00±0.10 cm (1.7%)</td>\n",
       "      <td>(814.00±1.70)*10^-5 T (0.21%)</td>\n",
       "    </tr>\n",
       "    <tr>\n",
       "      <th>13</th>\n",
       "      <td>6.50±0.10 cm (1.5%)</td>\n",
       "      <td>(809.00±1.70)*10^-5 T (0.21%)</td>\n",
       "    </tr>\n",
       "    <tr>\n",
       "      <th>14</th>\n",
       "      <td>7.00±0.10 cm (1.4%)</td>\n",
       "      <td>(802.00±1.70)*10^-5 T (0.21%)</td>\n",
       "    </tr>\n",
       "    <tr>\n",
       "      <th>15</th>\n",
       "      <td>7.50±0.10 cm (1.3%)</td>\n",
       "      <td>(793.00±1.70)*10^-5 T (0.22%)</td>\n",
       "    </tr>\n",
       "    <tr>\n",
       "      <th>16</th>\n",
       "      <td>8.00±0.10 cm (1.2%)</td>\n",
       "      <td>(781.00±1.70)*10^-5 T (0.22%)</td>\n",
       "    </tr>\n",
       "    <tr>\n",
       "      <th>17</th>\n",
       "      <td>8.50±0.10 cm (1.2%)</td>\n",
       "      <td>(767.00±1.70)*10^-5 T (0.22%)</td>\n",
       "    </tr>\n",
       "    <tr>\n",
       "      <th>18</th>\n",
       "      <td>9.00±0.10 cm (1.1%)</td>\n",
       "      <td>(749.00±1.60)*10^-5 T (0.22%)</td>\n",
       "    </tr>\n",
       "    <tr>\n",
       "      <th>19</th>\n",
       "      <td>9.50±0.10 cm (1.1%)</td>\n",
       "      <td>(718.00±1.60)*10^-5 T (0.22%)</td>\n",
       "    </tr>\n",
       "    <tr>\n",
       "      <th>20</th>\n",
       "      <td>10.00±0.10 cm (1.0%)</td>\n",
       "      <td>(685.00±1.50)*10^-5 T (0.22%)</td>\n",
       "    </tr>\n",
       "    <tr>\n",
       "      <th>21</th>\n",
       "      <td>10.50±0.10 cm (0.95%)</td>\n",
       "      <td>(644.00±1.40)*10^-5 T (0.22%)</td>\n",
       "    </tr>\n",
       "    <tr>\n",
       "      <th>22</th>\n",
       "      <td>11.00±0.10 cm (0.91%)</td>\n",
       "      <td>(592.00±1.30)*10^-5 T (0.22%)</td>\n",
       "    </tr>\n",
       "    <tr>\n",
       "      <th>23</th>\n",
       "      <td>11.50±0.10 cm (0.87%)</td>\n",
       "      <td>(532.00±1.20)*10^-5 T (0.23%)</td>\n",
       "    </tr>\n",
       "    <tr>\n",
       "      <th>24</th>\n",
       "      <td>12.00±0.10 cm (0.83%)</td>\n",
       "      <td>(463.00±1.10)*10^-5 T (0.23%)</td>\n",
       "    </tr>\n",
       "    <tr>\n",
       "      <th>25</th>\n",
       "      <td>12.50±0.10 cm (0.80%)</td>\n",
       "      <td>(391.0±0.9)*10^-5 T (0.24%)</td>\n",
       "    </tr>\n",
       "    <tr>\n",
       "      <th>26</th>\n",
       "      <td>13.00±0.10 cm (0.77%)</td>\n",
       "      <td>(318.0±0.8)*10^-5 T (0.25%)</td>\n",
       "    </tr>\n",
       "    <tr>\n",
       "      <th>27</th>\n",
       "      <td>13.50±0.10 cm (0.74%)</td>\n",
       "      <td>(256.0±0.7)*10^-5 T (0.27%)</td>\n",
       "    </tr>\n",
       "    <tr>\n",
       "      <th>28</th>\n",
       "      <td>14.00±0.10 cm (0.71%)</td>\n",
       "      <td>(214.0±0.6)*10^-5 T (0.28%)</td>\n",
       "    </tr>\n",
       "    <tr>\n",
       "      <th>29</th>\n",
       "      <td>14.50±0.10 cm (0.69%)</td>\n",
       "      <td>(171.0±0.5)*10^-5 T (0.31%)</td>\n",
       "    </tr>\n",
       "    <tr>\n",
       "      <th>30</th>\n",
       "      <td>15.00±0.10 cm (0.67%)</td>\n",
       "      <td>(130.0±0.4)*10^-5 T (0.34%)</td>\n",
       "    </tr>\n",
       "  </tbody>\n",
       "</table>\n",
       "</div>"
      ],
      "text/plain": [
       "                        z                              B\n",
       "0     0.00±0.10 cm (NaN%)  (784.00±1.70)*10^-5 T (0.22%)\n",
       "1      0.50±0.10 cm (20%)  (794.00±1.70)*10^-5 T (0.22%)\n",
       "2      1.00±0.10 cm (10%)  (804.00±1.70)*10^-5 T (0.21%)\n",
       "3     1.50±0.10 cm (6.7%)  (810.00±1.70)*10^-5 T (0.21%)\n",
       "4     2.00±0.10 cm (5.0%)  (816.00±1.80)*10^-5 T (0.21%)\n",
       "5     2.50±0.10 cm (4.0%)  (819.00±1.80)*10^-5 T (0.21%)\n",
       "6     3.00±0.10 cm (3.3%)  (822.00±1.80)*10^-5 T (0.21%)\n",
       "7     3.50±0.10 cm (2.9%)  (824.00±1.80)*10^-5 T (0.21%)\n",
       "8     4.00±0.10 cm (2.5%)  (825.00±1.80)*10^-5 T (0.21%)\n",
       "9     4.50±0.10 cm (2.2%)  (824.00±1.80)*10^-5 T (0.21%)\n",
       "10    5.00±0.10 cm (2.0%)  (821.00±1.80)*10^-5 T (0.21%)\n",
       "11    5.50±0.10 cm (1.8%)  (819.00±1.80)*10^-5 T (0.21%)\n",
       "12    6.00±0.10 cm (1.7%)  (814.00±1.70)*10^-5 T (0.21%)\n",
       "13    6.50±0.10 cm (1.5%)  (809.00±1.70)*10^-5 T (0.21%)\n",
       "14    7.00±0.10 cm (1.4%)  (802.00±1.70)*10^-5 T (0.21%)\n",
       "15    7.50±0.10 cm (1.3%)  (793.00±1.70)*10^-5 T (0.22%)\n",
       "16    8.00±0.10 cm (1.2%)  (781.00±1.70)*10^-5 T (0.22%)\n",
       "17    8.50±0.10 cm (1.2%)  (767.00±1.70)*10^-5 T (0.22%)\n",
       "18    9.00±0.10 cm (1.1%)  (749.00±1.60)*10^-5 T (0.22%)\n",
       "19    9.50±0.10 cm (1.1%)  (718.00±1.60)*10^-5 T (0.22%)\n",
       "20   10.00±0.10 cm (1.0%)  (685.00±1.50)*10^-5 T (0.22%)\n",
       "21  10.50±0.10 cm (0.95%)  (644.00±1.40)*10^-5 T (0.22%)\n",
       "22  11.00±0.10 cm (0.91%)  (592.00±1.30)*10^-5 T (0.22%)\n",
       "23  11.50±0.10 cm (0.87%)  (532.00±1.20)*10^-5 T (0.23%)\n",
       "24  12.00±0.10 cm (0.83%)  (463.00±1.10)*10^-5 T (0.23%)\n",
       "25  12.50±0.10 cm (0.80%)    (391.0±0.9)*10^-5 T (0.24%)\n",
       "26  13.00±0.10 cm (0.77%)    (318.0±0.8)*10^-5 T (0.25%)\n",
       "27  13.50±0.10 cm (0.74%)    (256.0±0.7)*10^-5 T (0.27%)\n",
       "28  14.00±0.10 cm (0.71%)    (214.0±0.6)*10^-5 T (0.28%)\n",
       "29  14.50±0.10 cm (0.69%)    (171.0±0.5)*10^-5 T (0.31%)\n",
       "30  15.00±0.10 cm (0.67%)    (130.0±0.4)*10^-5 T (0.34%)"
      ]
     },
     "metadata": {},
     "output_type": "display_data"
    }
   ],
   "source": [
    "display(df1)\n",
    "table_to_print1 = ml.prepare_to_print(df1)\n",
    "#display(table_to_print)"
   ]
  },
  {
   "cell_type": "code",
   "execution_count": 7,
   "metadata": {},
   "outputs": [
    {
     "data": {
      "text/html": [
       "<div>\n",
       "<style>\n",
       "    .dataframe thead tr:only-child th {\n",
       "        text-align: right;\n",
       "    }\n",
       "\n",
       "    .dataframe thead th {\n",
       "        text-align: left;\n",
       "    }\n",
       "\n",
       "    .dataframe tbody tr th {\n",
       "        vertical-align: top;\n",
       "    }\n",
       "</style>\n",
       "<table border=\"1\" class=\"dataframe\">\n",
       "  <thead>\n",
       "    <tr style=\"text-align: right;\">\n",
       "      <th></th>\n",
       "      <th>I</th>\n",
       "      <th>B2</th>\n",
       "      <th>B2 diap</th>\n",
       "    </tr>\n",
       "  </thead>\n",
       "  <tbody>\n",
       "    <tr>\n",
       "      <th>0</th>\n",
       "      <td>0.50±0.05 A (10%)</td>\n",
       "      <td>(825.00±1.00)*10^-5 T (0.12%)</td>\n",
       "      <td>0.020000 T</td>\n",
       "    </tr>\n",
       "    <tr>\n",
       "      <th>1</th>\n",
       "      <td>1.00±0.05 A (5.0%)</td>\n",
       "      <td>(1584.00±1.00)*10^-5 T (0.063%)</td>\n",
       "      <td>0.020000 T</td>\n",
       "    </tr>\n",
       "    <tr>\n",
       "      <th>2</th>\n",
       "      <td>1.50±0.05 A (3.3%)</td>\n",
       "      <td>(2320.00±1.00)*10^-5 T (0.043%)</td>\n",
       "      <td>0.200000 T</td>\n",
       "    </tr>\n",
       "    <tr>\n",
       "      <th>3</th>\n",
       "      <td>2.00±0.05 A (2.5%)</td>\n",
       "      <td>(3040.00±1.00)*10^-5 T (0.033%)</td>\n",
       "      <td>0.200000 T</td>\n",
       "    </tr>\n",
       "    <tr>\n",
       "      <th>4</th>\n",
       "      <td>2.50±0.05 A (2.0%)</td>\n",
       "      <td>(3810.00±1.00)*10^-5 T (0.026%)</td>\n",
       "      <td>0.200000 T</td>\n",
       "    </tr>\n",
       "  </tbody>\n",
       "</table>\n",
       "</div>"
      ],
      "text/plain": [
       "                    I                               B2     B2 diap\n",
       "0   0.50±0.05 A (10%)    (825.00±1.00)*10^-5 T (0.12%)  0.020000 T\n",
       "1  1.00±0.05 A (5.0%)  (1584.00±1.00)*10^-5 T (0.063%)  0.020000 T\n",
       "2  1.50±0.05 A (3.3%)  (2320.00±1.00)*10^-5 T (0.043%)  0.200000 T\n",
       "3  2.00±0.05 A (2.5%)  (3040.00±1.00)*10^-5 T (0.033%)  0.200000 T\n",
       "4  2.50±0.05 A (2.0%)  (3810.00±1.00)*10^-5 T (0.026%)  0.200000 T"
      ]
     },
     "metadata": {},
     "output_type": "display_data"
    }
   ],
   "source": [
    "display(df2)\n",
    "table_to_print2 = ml.prepare_to_print(df2)\n",
    "#display(table_to_print)"
   ]
  },
  {
   "cell_type": "code",
   "execution_count": 9,
   "metadata": {
    "scrolled": false
   },
   "outputs": [
    {
     "data": {
      "image/png": "[encoded data removed]",
      "text/plain": [
       "<matplotlib.figure.Figure at 0x7fe6b44ca470>"
      ]
     },
     "metadata": {},
     "output_type": "display_data"
    },
    {
     "name": "stdout",
     "output_type": "stream",
     "text": [
      "(array([ 0.014852,  0.00088 ]), [6.8422218613317651e-05, 3.4211109306658825e-05])\n",
      "n= 118±7 1/cm (5.9%)\n"
     ]
    }
   ],
   "source": [
    "plt.figure(figsize=(10, 8))\n",
    "ml.plt_pq(df2['I'], df2['B2'], ols=True)\n",
    "plt.title('Зависимость B = B(I)')\n",
    "plt.xlabel('I, A')\n",
    "plt.ylabel('B, Тл')\n",
    "ols = ml.OLS(df2['I'], df2['B2'])\n",
    "plt.show()\n",
    "print(ols)\n",
    "# Коэффициент наклона прямой\n",
    "k = ml.PQ(ols[0][0]*u.T/u.A, sigma=ols[0][1]*u.T/u.A)\n",
    "# Плотность намотки\n",
    "n = (k/mu_0).repr_as(1/u.cm)\n",
    "print('n=', n)"
   ]
  },
  {
   "cell_type": "code",
   "execution_count": 34,
   "metadata": {},
   "outputs": [
    {
     "name": "stdout",
     "output_type": "stream",
     "text": [
      "(825.00±1.80)*10^-5 T (0.21%)\n",
      "d= 7±6 cm**2 (-89%)\n"
     ]
    }
   ],
   "source": [
    "# Оценка параметров соленоида\n",
    "B_c = np.max(df1['B']) # Индукция в центре\n",
    "print(B_c)\n",
    "# Половину длины можно оценить как разность координаты, в которой максимум поля (середина) \n",
    "# и в которой половина максимума (край)\n",
    "# L = ml.PQ(2*(12-4)*u.cm, is_const=True)\n",
    "# print(L)\n",
    "L = 16*u.cm\n",
    "d = L*np.sqrt(((mu_0*I*n)/B_c)**2-1).repr_as(u.cm)\n",
    "print('d=', d)\n",
    "d = 2*u.cm\n",
    "z = df1['z']-12*u.cm\n",
    "#print(z)\n",
    "B = (mu_0*I*n/2*ml.pqarray((-z/np.sqrt(z**2+d**2)+(z+L)/np.sqrt((z+L)**2+d**2)))).repr_as(u.tesla)\n",
    "#print(B)"
   ]
  },
  {
   "cell_type": "code",
   "execution_count": 35,
   "metadata": {},
   "outputs": [
    {
     "data": {
      "image/png": "[encoded data removed]",
      "text/plain": [
       "<matplotlib.figure.Figure at 0x7fe6b2ed05f8>"
      ]
     },
     "metadata": {},
     "output_type": "display_data"
    }
   ],
   "source": [
    "plt.figure(figsize=(10, 8))\n",
    "ml.plt_pq(df1['z'], df1['B'])\n",
    "ml.plt_pq(df1['z'], B)\n",
    "plt.title('Зависимость B = B(z)')\n",
    "plt.xlabel('z, см')\n",
    "plt.ylabel('B, Тл')\n",
    "plt.show()"
   ]
  },
  {
   "cell_type": "code",
   "execution_count": null,
   "metadata": {},
   "outputs": [],
   "source": [
    "# Часть 2\n",
    "df3 = pd.DataFrame()\n",
    "# d - толщина, l - длина стороны/диаметр для квадратных и круглых магнитов\n",
    "d_sqr = ml.PQ(3.95*u.mm, sigma=0.05*u.mm)\n",
    "l_sqr = ml.PQ(9.95*u.mm, sigma=0.05*u.mm)\n",
    "d_cyl = ml.PQ(4.95*u.mm, sigma=0.05*u.mm)\n",
    "l_cyl = ml.PQ(9.95*u.mm, sigma=0.05*u.mm)\n",
    "\n",
    "df3['n'] = ml.get_column(data, 'n', lambda row: int(row['n']))\n",
    "df3['B square'] = ml.get_column(data, 'B square', lambda row: ml.PQ(row['B square']*1e-3*u.tesla, sigma=0.1*1e-3*u.tesla))\n",
    "df3['B cylinder'] = ml.get_column(data, 'B cylinder', lambda row: ml.PQ(row['B cylinder']*1e-3*u.tesla, sigma=0.1*1e-3*u.tesla))"
   ]
  },
  {
   "cell_type": "code",
   "execution_count": null,
   "metadata": {},
   "outputs": [],
   "source": [
    "display(df3)\n",
    "table_to_print3 = ml.prepare_to_print(df3)\n",
    "#display(table_to_print)\n",
    "ml.write_latex('lab1.2 table3.tex', [table_to_print1, table_to_print2, table_to_print3])"
   ]
  },
  {
   "cell_type": "code",
   "execution_count": null,
   "metadata": {},
   "outputs": [],
   "source": [
    "p_m_s = ml.pqarray(df3['B cylinder'])*(4*np.pi/mu_0)/\\\n",
    "                    (2*np.pi*(ml.pqarray(df3['n'])*d_cyl)/np.sqrt(l_cyl**2+(ml.pqarray(df3['n'])*d_cyl)**2))\n",
    "print(p_m_s)\n",
    "ml.plt_pq(df3['n'], p_m_s)"
   ]
  },
  {
   "cell_type": "code",
   "execution_count": null,
   "metadata": {},
   "outputs": [],
   "source": [
    "plt.figure(figsize=(10,8))\n",
    "ml.plt_pq(df3['n'], df3['B square'])\n",
    "plt.xlabel('n')\n",
    "plt.ylabel('B, Тл')\n",
    "plt.xlim(xmin=1)\n",
    "plt.title('Зависимость B = B(n) для поля n постоянных магнитов')\n",
    "plt.show()\n",
    "ml.plt_pq(df3['n'], df3['B cylinder'])"
   ]
  },
  {
   "cell_type": "code",
   "execution_count": null,
   "metadata": {},
   "outputs": [],
   "source": [
    "# Часть 3\n",
    "r_max = ml.PQ(33.6*u.mm, sigma=0.05*u.mm)\n",
    "print(r_max)\n",
    "m_s = ml.get_column(data, 'mass', lambda row: ml.PQ(row['mass']*u.g, sigma=0.001*u.g))\n",
    "m = ml.get_mean(m_s)\n",
    "p_m = np.sqrt(3*m*g/(8*sp.pi*r_max**2)).repr_as(u.tesla)\n",
    "print(p_m)\n",
    "B_r = mu_0*p_m\n",
    "print(B_r)"
   ]
  },
  {
   "cell_type": "code",
   "execution_count": null,
   "metadata": {},
   "outputs": [],
   "source": [
    "# Часть 4\n",
    "J = 1/12*m*(d_cyl*10)**2+1/4*m*(l_cyl/2)**2\n",
    "print(J)\n"
   ]
  },
  {
   "cell_type": "code",
   "execution_count": null,
   "metadata": {},
   "outputs": [],
   "source": []
  }
 ],
 "metadata": {
  "kernelspec": {
   "display_name": "Python 3",
   "language": "python",
   "name": "python3"
  },
  "language_info": {
   "codemirror_mode": {
    "name": "ipython",
    "version": 3
   },
   "file_extension": ".py",
   "mimetype": "text/x-python",
   "name": "python",
   "nbconvert_exporter": "python",
   "pygments_lexer": "ipython3",
   "version": "3.6.0"
  }
 },
 "nbformat": 4,
 "nbformat_minor": 2
}
