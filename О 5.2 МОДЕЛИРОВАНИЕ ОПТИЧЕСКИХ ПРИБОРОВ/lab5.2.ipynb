{
 "cells": [
  {
   "cell_type": "code",
   "execution_count": 1,
   "metadata": {},
   "outputs": [],
   "source": [
    "%load_ext autoreload\n",
    "%autoreload 2"
   ]
  },
  {
   "cell_type": "code",
   "execution_count": 2,
   "metadata": {},
   "outputs": [
    {
     "data": {
      "text/plain": [
       "'1.1.2.dev'"
      ]
     },
     "execution_count": 2,
     "metadata": {},
     "output_type": "execute_result"
    }
   ],
   "source": [
    "import sympy.physics.units as u\n",
    "import sympy as sp\n",
    "import numpy as np\n",
    "import logging as log\n",
    "import functools\n",
    "import matplotlib.pyplot as plt\n",
    "import seaborn\n",
    "import pandas as pd\n",
    "pd.set_option('display.max_columns', None)\n",
    "%matplotlib inline\n",
    "from IPython.display import display, HTML\n",
    "\n",
    "import sys, os, importlib\n",
    "module_path = os.path.abspath(os.path.join('..'))\n",
    "if module_path not in sys.path:\n",
    "    sys.path.append(module_path)\n",
    "\n",
    "import miptlabs as ml\n",
    "importlib.reload(ml)\n",
    "\n",
    "importlib.reload(log)\n",
    "log.basicConfig(level=log.INFO, format='LOG %(message)s', stream=sys.stdout)\n",
    "\n",
    "sp.Basic.__str__=lambda expr, **settings:ml.PQStrPrinter(settings).doprint(expr)\n",
    "\n",
    "sp.__version__"
   ]
  },
  {
   "cell_type": "code",
   "execution_count": 3,
   "metadata": {},
   "outputs": [
    {
     "data": {
      "text/html": [
       "<div>\n",
       "<style>\n",
       "    .dataframe thead tr:only-child th {\n",
       "        text-align: right;\n",
       "    }\n",
       "\n",
       "    .dataframe thead th {\n",
       "        text-align: left;\n",
       "    }\n",
       "\n",
       "    .dataframe tbody tr th {\n",
       "        vertical-align: top;\n",
       "    }\n",
       "</style>\n",
       "<table border=\"1\" class=\"dataframe\">\n",
       "  <thead>\n",
       "    <tr style=\"text-align: right;\">\n",
       "      <th></th>\n",
       "      <th>No</th>\n",
       "      <th>F_exp, mm</th>\n",
       "      <th>F_exp^inv, mm</th>\n",
       "      <th>F_true, mm</th>\n",
       "    </tr>\n",
       "  </thead>\n",
       "  <tbody>\n",
       "    <tr>\n",
       "      <th>0</th>\n",
       "      <td>1</td>\n",
       "      <td>97</td>\n",
       "      <td>99</td>\n",
       "      <td>100</td>\n",
       "    </tr>\n",
       "    <tr>\n",
       "      <th>1</th>\n",
       "      <td>2</td>\n",
       "      <td>246</td>\n",
       "      <td>248</td>\n",
       "      <td>250</td>\n",
       "    </tr>\n",
       "    <tr>\n",
       "      <th>2</th>\n",
       "      <td>3</td>\n",
       "      <td>148</td>\n",
       "      <td>150</td>\n",
       "      <td>150</td>\n",
       "    </tr>\n",
       "    <tr>\n",
       "      <th>3</th>\n",
       "      <td>4</td>\n",
       "      <td>0</td>\n",
       "      <td>0</td>\n",
       "      <td>130</td>\n",
       "    </tr>\n",
       "  </tbody>\n",
       "</table>\n",
       "</div>"
      ],
      "text/plain": [
       "   No  F_exp, mm  F_exp^inv, mm  F_true, mm\n",
       "0   1         97             99         100\n",
       "1   2        246            248         250\n",
       "2   3        148            150         150\n",
       "3   4          0              0         130"
      ]
     },
     "metadata": {},
     "output_type": "display_data"
    }
   ],
   "source": [
    "data = pd.read_csv('5.2.csv')\n",
    "display(data)"
   ]
  },
  {
   "cell_type": "code",
   "execution_count": 4,
   "metadata": {},
   "outputs": [
    {
     "data": {
      "text/html": [
       "<div>\n",
       "<style>\n",
       "    .dataframe thead tr:only-child th {\n",
       "        text-align: right;\n",
       "    }\n",
       "\n",
       "    .dataframe thead th {\n",
       "        text-align: left;\n",
       "    }\n",
       "\n",
       "    .dataframe tbody tr th {\n",
       "        vertical-align: top;\n",
       "    }\n",
       "</style>\n",
       "<table border=\"1\" class=\"dataframe\">\n",
       "  <thead>\n",
       "    <tr style=\"text-align: right;\">\n",
       "      <th></th>\n",
       "      <th>F_exp, mm</th>\n",
       "      <th>F_exp^inv, mm</th>\n",
       "      <th>F_true, mm</th>\n",
       "    </tr>\n",
       "  </thead>\n",
       "  <tbody>\n",
       "    <tr>\n",
       "      <th>0</th>\n",
       "      <td>97±7 mm (7.3%)</td>\n",
       "      <td>99±7 mm (7.1%)</td>\n",
       "      <td>100.000000 mm</td>\n",
       "    </tr>\n",
       "    <tr>\n",
       "      <th>1</th>\n",
       "      <td>246±7 mm (2.9%)</td>\n",
       "      <td>248±7 mm (2.9%)</td>\n",
       "      <td>250.000000 mm</td>\n",
       "    </tr>\n",
       "    <tr>\n",
       "      <th>2</th>\n",
       "      <td>148±7 mm (4.8%)</td>\n",
       "      <td>150±7 mm (4.7%)</td>\n",
       "      <td>150.000000 mm</td>\n",
       "    </tr>\n",
       "    <tr>\n",
       "      <th>3</th>\n",
       "      <td>132±10 mm (7.6%)</td>\n",
       "      <td>130±10 mm (7.7%)</td>\n",
       "      <td>130.000000 mm</td>\n",
       "    </tr>\n",
       "  </tbody>\n",
       "</table>\n",
       "</div>"
      ],
      "text/plain": [
       "          F_exp, mm     F_exp^inv, mm     F_true, mm\n",
       "0    97±7 mm (7.3%)    99±7 mm (7.1%)  100.000000 mm\n",
       "1   246±7 mm (2.9%)   248±7 mm (2.9%)  250.000000 mm\n",
       "2   148±7 mm (4.8%)   150±7 mm (4.7%)  150.000000 mm\n",
       "3  132±10 mm (7.6%)  130±10 mm (7.7%)  130.000000 mm"
      ]
     },
     "metadata": {},
     "output_type": "display_data"
    }
   ],
   "source": [
    "# Погрешность измерения длины одинакова: по 5 мм с каждой стороны\n",
    "dist_sigma = np.sqrt(2)*5*u.mm\n",
    "\n",
    "df2 = pd.DataFrame()\n",
    "df2['F_exp, mm'] = ml.get_column(data, 'F_exp, mm', lambda row: ml.PQ(row['F_exp, mm']*u.mm, sigma=dist_sigma))\n",
    "df2['F_exp^inv, mm'] = ml.get_column(data, 'F_exp^inv, mm', lambda row: ml.PQ(row['F_exp^inv, mm']*u.mm, sigma=dist_sigma))\n",
    "df2['F_true, mm'] = ml.get_column(data, 'F_true, mm', lambda row: ml.PQ(row['F_true, mm']*u.mm, is_const=True))\n",
    "\n",
    "# Расчёт для рассеивающей линзы\n",
    "a_0 = ml.PQ(295*u.mm, sigma=dist_sigma)\n",
    "l = ml.PQ(163*u.mm, sigma=dist_sigma)\n",
    "l_inv = ml.PQ(165*u.mm, sigma=dist_sigma)\n",
    "df2['F_exp, mm'][3] = a_0-l\n",
    "df2['F_exp^inv, mm'][3] = a_0-l_inv\n",
    "\n",
    "display(df2)"
   ]
  },
  {
   "cell_type": "code",
   "execution_count": 10,
   "metadata": {},
   "outputs": [
    {
     "name": "stdout",
     "output_type": "stream",
     "text": [
      "2.54±0.20  (7.8%)\n"
     ]
    }
   ],
   "source": [
    "# Труба Кеплера\n",
    "f = ml.PQ(154*u.mm, sigma=dist_sigma) # коллиматор\n",
    "f_12 = ml.PQ(358*u.mm, sigma=dist_sigma)\n",
    "f_objective = df2['F_exp, mm'][1]\n",
    "f_ocular = df2['F_exp, mm'][0]\n",
    "f_12_true = f_objective+f_ocular\n",
    "#print(f_12, f_12_true)\n",
    "gamma_theor = f_objective/f_ocular\n",
    "print(gamma_theor)\n",
    "gamma_exper = 1"
   ]
  },
  {
   "cell_type": "code",
   "execution_count": 11,
   "metadata": {},
   "outputs": [
    {
     "name": "stdout",
     "output_type": "stream",
     "text": [
      "124±7 mm (5.7%) 114±12 mm (11%)\n",
      "1.86±0.15  (8.1%)\n"
     ]
    }
   ],
   "source": [
    "# Труба Галилея\n",
    "f = ml.PQ(154*u.mm, sigma=dist_sigma) # коллиматор\n",
    "f_12 = ml.PQ(124*u.mm, sigma=dist_sigma)\n",
    "f_objective = df2['F_exp, mm'][1]\n",
    "f_ocular = df2['F_exp, mm'][3]\n",
    "f_12_true = f_objective-f_ocular\n",
    "print(f_12, f_12_true)\n",
    "gamma_theor = f_objective/f_ocular\n",
    "print(gamma_theor)"
   ]
  },
  {
   "cell_type": "code",
   "execution_count": 12,
   "metadata": {},
   "outputs": [
    {
     "name": "stdout",
     "output_type": "stream",
     "text": [
      "296±10 mm (3.4%)\n",
      "7.5±0.5  (7.0%)\n",
      "8.0±0.6  (7.1%)\n"
     ]
    }
   ],
   "source": [
    "# Проекционный микроскоп\n",
    "d1 = ml.PQ(123*u.mm, sigma=dist_sigma)\n",
    "f1d2 = ml.PQ(976*u.mm, sigma=dist_sigma)\n",
    "f1 = ml.PQ(680*u.mm, sigma=dist_sigma)\n",
    "d2 = f1d2-f1\n",
    "print(d2)\n",
    "f2 = ml.PQ(402*u.mm, sigma=dist_sigma)\n",
    "gamma = f1/d1*f2/d2\n",
    "print(gamma)\n",
    "\n",
    "x_d = ml.PQ(0.5*u.mm, is_const=True)\n",
    "x_f = ml.PQ(20*u.mm, sigma=1*np.sqrt(2)*u.mm)/5\n",
    "gamma_exper = x_f/x_d\n",
    "print(gamma_exper)"
   ]
  },
  {
   "cell_type": "code",
   "execution_count": 8,
   "metadata": {},
   "outputs": [
    {
     "name": "stdout",
     "output_type": "stream",
     "text": [
      "s 78.0862971605661\n",
      "b 81.5382745243698*mm\n",
      "b 81.5382745243698*mm\n",
      "b 84.8499299974653*mm\n",
      "c 200±80 mm (42%)\n",
      "gamma 5.8±2.7  (47%)\n"
     ]
    }
   ],
   "source": [
    "F2 = ml.PQ(100*u.mm, sigma=5*u.mm)\n",
    "a = ml.PQ(135*u.mm, sigma=5*u.mm)\n",
    "bplusc = ml.PQ(590*u.mm, sigma=5*u.mm)\n",
    "d = ml.PQ(415*u.mm, sigma=5*u.mm)\n",
    "\n",
    "#a = 135\n",
    "#F2 = 100\n",
    "log.getLogger().setLevel(log.INFO)\n",
    "s = np.sqrt(( (a*(a-F2)-F2*a)/(a-F2)**2 )**2*5**2+ ( (F2*(a-F2)+a*F2)/(a-F2)**2)**2*5**2)\n",
    "print('s', s.val)\n",
    "\n",
    "b = (F2*a)/(a-F2)\n",
    "print('b', b.sigma)\n",
    "b = (a*F2)/(a-F2)\n",
    "print('b', b.sigma)\n",
    "b = ml.eval(u.mm, lambda a, F2: (F2*a)/(a-F2), a, F2)\n",
    "print('b', b.sigma)\n",
    "c = bplusc - b\n",
    "print('c', c)\n",
    "gamma = b/a*d/c\n",
    "print('gamma', gamma)"
   ]
  },
  {
   "cell_type": "code",
   "execution_count": 9,
   "metadata": {},
   "outputs": [
    {
     "ename": "SyntaxError",
     "evalue": "invalid syntax (<ipython-input-9-95d0326029c8>, line 6)",
     "output_type": "error",
     "traceback": [
      "\u001b[0;36m  File \u001b[0;32m\"<ipython-input-9-95d0326029c8>\"\u001b[0;36m, line \u001b[0;32m6\u001b[0m\n\u001b[0;31m    t =\u001b[0m\n\u001b[0m        ^\u001b[0m\n\u001b[0;31mSyntaxError\u001b[0m\u001b[0;31m:\u001b[0m invalid syntax\n"
     ]
    }
   ],
   "source": [
    "F1 = ml.PQ(100*u.mm, sigma=5*u.mm)\n",
    "F2 = ml.PQ(150*u.mm, sigma=5*u.mm)\n",
    "delta = ml.PQ(465*u.mm, sigma=5*u.mm)\n",
    "l = ml.PQ(135*u.mm, sigma=5*u.mm)\n",
    "\n",
    "t = "
   ]
  },
  {
   "cell_type": "code",
   "execution_count": null,
   "metadata": {},
   "outputs": [],
   "source": []
  }
 ],
 "metadata": {
  "kernelspec": {
   "display_name": "Python 3",
   "language": "python",
   "name": "python3"
  },
  "language_info": {
   "codemirror_mode": {
    "name": "ipython",
    "version": 3
   },
   "file_extension": ".py",
   "mimetype": "text/x-python",
   "name": "python",
   "nbconvert_exporter": "python",
   "pygments_lexer": "ipython3",
   "version": "3.6.0"
  }
 },
 "nbformat": 4,
 "nbformat_minor": 2
}
