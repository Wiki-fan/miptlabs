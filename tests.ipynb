{
 "cells": [
  {
   "cell_type": "code",
   "execution_count": 171,
   "metadata": {},
   "outputs": [],
   "source": [
    "import sympy.physics.units as u\n",
    "import sympy as sp\n",
    "import numpy as np\n",
    "import logging as log\n",
    "import functools\n",
    "import matplotlib.pyplot as plt\n",
    "import seaborn\n",
    "%matplotlib inline\n",
    "\n",
    "import importlib.util\n",
    "#spec = importlib.util.spec_from_file_location(\"miptlabs\", \"/full/path/to/miptlabs.py\")\n",
    "#miptlabs = importlib.util.module_from_spec(spec)\n",
    "#spec.loader.exec_module(miptlabs)\n",
    "#ml = miptlabs\n",
    "\n",
    "import miptlabs as ml\n",
    "importlib.reload(ml)\n",
    "\n",
    "import sys, importlib\n",
    "importlib.reload(log)\n",
    "log.basicConfig(level=log.INFO, format='%(message)s', stream=sys.stdout)"
   ]
  },
  {
   "cell_type": "code",
   "execution_count": 172,
   "metadata": {
    "collapsed": true
   },
   "outputs": [],
   "source": [
    "def test_print_rounded(self):\n",
    "    a = PQ(12345.6*u.m, sigma=3*u.m, dim=u.m)\n",
    "    print(a.repr_rounded_as(u.m))\n",
    "    b = PQ(12345.4*u.m, sigma=3*u.m, dim=u.m)\n",
    "    print(b.repr_rounded_as(u.m))\n",
    "    c = PQ(0.4*u.m, sigma=3*u.m, dim=u.m)\n",
    "    print(c.repr_rounded_as(u.m))\n",
    "    d = PQ(0.4*u.m, sigma=0.03*u.m, dim=u.m)\n",
    "    print(d.repr_rounded_as(u.m))\n",
    "\n"
   ]
  },
  {
   "cell_type": "code",
   "execution_count": 174,
   "metadata": {},
   "outputs": [
    {
     "name": "stdout",
     "output_type": "stream",
     "text": [
      "1.000000±0.001000 meter (0.001000)\n",
      "2.000000±0.001000 meter (0.000500)\n",
      "2.000000±0.001000 meter (0.000500)\n",
      "2.000000±0.010000 second (0.005000)\n",
      "3.000000±0.001414 meter (0.000471)\n",
      "3.000000±0.003000 meter (0.001000)\n",
      "2.000000±0.002236 meter**2 (0.001118)\n",
      "0.500000±0.000559 1 (0.001118)\n",
      "new_dim  s/meter\n",
      "second/(2*meter)\n",
      "new_dim  1/meter\n",
      "0.500000±0.000250 1/meter (0.000500)\n",
      "[1.000000±0.001000 meter (0.001000) 2.000000±0.001000 meter (0.000500)\n",
      " 2.000000±0.001000 meter (0.000500)]\n",
      "meter\n",
      "2.000000±0.002000 meter (0.001000)\n"
     ]
    }
   ],
   "source": [
    "\n",
    "a = ml.PQ(1*u.m, dim=u.meter, sigma=1*u.mm) # Почему meter/m не считается?\n",
    "b = ml.PQ(2*u.m, sigma=1*u.mm)\n",
    "c = ml.PQ(2*u.m, sigma=1*u.mm)\n",
    "t = ml.PQ(2*u.s,  sigma=0.01*u.s)\n",
    "try:\n",
    "    test = ml.PQ(a, sigma=2*u.m)\n",
    "except Exception:\n",
    "    pass\n",
    "arr = np.array([a, b, c])\n",
    "\n",
    "print(a)\n",
    "print(b)\n",
    "print(c)\n",
    "print(t)\n",
    "# type(u.m)\n",
    "# u.convert_to(a.sigma, a.dim)\n",
    "print(a+b) #3.000000±0.001414 meter (0.000471)\n",
    "print((a*3)) # 3.000000±0.003000 meter (0.001000)\n",
    "print(a*b) # 2.000000±0.002236 meter**2 (0.001118)\n",
    "print(a/b) # 0.500000±0.000559 1 (0.001118)\n",
    "print((u.s/b).val) #Откуда берётся 2?\n",
    "print(1/b) # 0.500000±0.000250 1/meter (0.000500)\n",
    "\n",
    "# type(u.m.args[1])\n",
    "print(arr)\n",
    "print((arr-a)[0].dim)\n",
    "print(a*2)"
   ]
  },
  {
   "cell_type": "code",
   "execution_count": 175,
   "metadata": {},
   "outputs": [
    {
     "name": "stdout",
     "output_type": "stream",
     "text": [
      "new_dim  s/meter\n",
      "second/s\n",
      "second/(2*s)\n",
      "2*meter/second\n"
     ]
    }
   ],
   "source": [
    "x = (u.s/b)\n",
    "print(np.prod(np.array(sp.simplify((x.val/x.dim).n().n()).args)[1:]))\n",
    "print(x.val/x.dim)\n",
    "print((b/u.s).val)"
   ]
  },
  {
   "cell_type": "code",
   "execution_count": null,
   "metadata": {
    "collapsed": true
   },
   "outputs": [],
   "source": []
  }
 ],
 "metadata": {
  "kernelspec": {
   "display_name": "Python 3",
   "language": "python",
   "name": "python3"
  },
  "language_info": {
   "codemirror_mode": {
    "name": "ipython",
    "version": 3
   },
   "file_extension": ".py",
   "mimetype": "text/x-python",
   "name": "python",
   "nbconvert_exporter": "python",
   "pygments_lexer": "ipython3",
   "version": "3.6.0"
  }
 },
 "nbformat": 4,
 "nbformat_minor": 2
}
