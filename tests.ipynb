{
 "cells": [
  {
   "cell_type": "code",
   "execution_count": 1,
   "metadata": {},
   "outputs": [],
   "source": [
    "%load_ext autoreload\n",
    "%autoreload 2"
   ]
  },
  {
   "cell_type": "code",
   "execution_count": 2,
   "metadata": {},
   "outputs": [],
   "source": [
    "import sympy.physics.units as u\n",
    "import sympy as sp\n",
    "\n",
    "import numpy as np\n",
    "import logging as log\n",
    "import functools\n",
    "import matplotlib.pyplot as plt\n",
    "import seaborn\n",
    "%matplotlib inline\n",
    "\n",
    "import importlib.util\n",
    "#spec = importlib.util.spec_from_file_location(\"miptlabs\", \"/full/path/to/miptlabs.py\")\n",
    "#miptlabs = importlib.util.module_from_spec(spec)\n",
    "#spec.loader.exec_module(miptlabs)\n",
    "#ml = miptlabs\n",
    "\n",
    "import miptlabs as ml\n",
    "importlib.reload(ml)\n",
    "\n",
    "import sys, importlib\n",
    "importlib.reload(log)\n",
    "log.basicConfig(level=log.INFO, format='%(message)s', stream=sys.stdout)\n",
    "\n",
    "#sp.latex=lambda expr, **settings:ml.PQLatexPrinter(settings).doprint(expr)\n",
    "sp.Basic.__str__=lambda expr, **settings:ml.PQStrPrinter(settings).doprint(expr)\n",
    "#sp.Basic.__str__=lambda expr, **settings:ml.PQLatexPrinter(settings).doprint(expr)\n",
    "#sp.init_printing(latex_printer=ml.PQLatexPrinter)\n",
    "#sp.init_printing()\n",
    "#sp.Basic.__str__ = lambda self: ml.PQLatexPrinter().doprint(self)"
   ]
  },
  {
   "cell_type": "code",
   "execution_count": 3,
   "metadata": {
    "scrolled": false
   },
   "outputs": [
    {
     "name": "stdout",
     "output_type": "stream",
     "text": [
      "12346±3 m (0.024%)\n",
      "12346±3 m (0.024%)\n",
      "12345±3 m (0.024%)\n",
      "0.4±0.3 m (75%)\n",
      "0.40±0.03 m (7.5%)\n",
      "(4.0±0.3)*10^-5 m (7.5%)\n",
      "(12.3±0.3)*10^4 m (2.4%)\n",
      "100000±3 m (0.0030%)\n"
     ]
    }
   ],
   "source": [
    "a = ml.PQ(12345.6*u.m, sigma=3*u.m, dim=u.m)\n",
    "print(a) #12346±3 meter (0.024%)\n",
    "a1 = ml.PQ(12345.5*u.m, sigma=3*u.m, dim=u.m)\n",
    "print(a1) #12346±3 meter (0.024%)\n",
    "b = ml.PQ(12345.4*u.m, sigma=3*u.m, dim=u.m)\n",
    "print(b) #12345±3 meter (0.024%)\n",
    "c = ml.PQ(0.4*u.m, sigma=0.3*u.m, dim=u.m)\n",
    "print(c) #0.4±0.3 meter (75%)\n",
    "d = ml.PQ(0.4*u.m, sigma=0.03*u.m, dim=u.m)\n",
    "print(d) #0.40±0.03 meter (7.5%)\n",
    "e = ml.PQ(0.00004*u.m, sigma=0.000003*u.m)\n",
    "print(e) #(4.0±0.3)*10^-5 meter (7.5%)\n",
    "f = ml.PQ(123456*u.m, sigma=3000*u.m)\n",
    "print(f) #(12.3±0.3)*10^4 meter (2.4%)\n",
    "g = ml.PQ(100000*u.m, sigma=3*u.m)\n",
    "print(g) #100000±3 meter (0.0030%)\n",
    "#display(32*u.m)\n",
    "#display(a)\n",
    "#print(sp.latex(a))\n",
    "#display(sp.latex(a))\n",
    "#a"
   ]
  },
  {
   "cell_type": "code",
   "execution_count": 4,
   "metadata": {},
   "outputs": [
    {
     "name": "stdout",
     "output_type": "stream",
     "text": [
      "1.0000±0.0010 m (0.10%)\n",
      "2.0000±0.0010 m (0.050%)\n",
      "2.0000±0.0010 m (0.050%)\n",
      "3.000±0.020 mm (0.67%)\n",
      "2.000±0.010 s (0.50%)\n",
      "3.0000±0.0014 m (0.047%)\n",
      "3.000±0.003 m (0.10%)\n",
      "2.0000±0.0022 m**2 (0.11%)\n",
      "(500.0±0.6)*10^-3  (0.11%)\n",
      "0.5*s/m\n",
      "(5000.00±2.50)*10^-4 1/m (0.050%)\n",
      "[1.0000±0.0010 m (0.10%) 2.0000±0.0010 m (0.050%) 2.0000±0.0010 m (0.050%)]\n",
      "m\n",
      "2.0000±0.0020 m (0.10%)\n"
     ]
    }
   ],
   "source": [
    "\n",
    "a = ml.PQ(1*u.m, dim=u.meter, sigma=1*u.mm) # Почему meter/m не считается?\n",
    "b = ml.PQ(2*u.m, sigma=1*u.mm)\n",
    "c = ml.PQ(2*u.m, sigma=1*u.mm)\n",
    "d = ml.PQ(3*u.mm, sigma=0.02*u.mm)\n",
    "t = ml.PQ(2*u.s,  sigma=0.01*u.s)\n",
    "try:\n",
    "    test = ml.PQ(a, sigma=2*u.m)\n",
    "except Exception:\n",
    "    pass\n",
    "arr = ml.pqarray([a, b, c])\n",
    "\n",
    "print(a) #1.0000±0.0010 meter (0.10%)\n",
    "print(b) #2.0000±0.0010 meter (0.050%)\n",
    "print(c) #2.0000±0.0010 meter (0.050%)\n",
    "print(d) #3.0±2.0 millimeter (67%)\n",
    "print(t) #2.000±0.010 second (0.50%)\n",
    "# type(u.m)\n",
    "# u.convert_to(a.sigma, a.dim)\n",
    "print(a+b) #3.0000±0.0014 meter (0.047%)\n",
    "print((a*3)) #3.000±0.003 meter (0.10%)\n",
    "print(a*b) #2.0000±0.0022 meter**2 (0.11%)\n",
    "print(a/b) # 0.500000±0.000559 1 (0.001118)\n",
    "print((u.s/b).val) #Откуда берётся 2?\n",
    "print(1/b) #(5000.00±2.50)*10^-4 1/meter (0.050%)\n",
    "\n",
    "# type(u.m.args[1])\n",
    "print(arr)\n",
    "print((arr-a)[0].dim)\n",
    "print(a*2)"
   ]
  },
  {
   "cell_type": "code",
   "execution_count": 5,
   "metadata": {},
   "outputs": [
    {
     "name": "stdout",
     "output_type": "stream",
     "text": [
      "s/(s*second)\n",
      "0.5*s/(s*second)\n",
      "2.0*m/s\n"
     ]
    }
   ],
   "source": [
    "x = (u.s/b)\n",
    "print(np.prod(np.array(sp.simplify((x.val/x.dim).n().n()).args)[1:]))\n",
    "print(x.val/x.dim)\n",
    "print((b/u.s).val)"
   ]
  },
  {
   "cell_type": "code",
   "execution_count": 6,
   "metadata": {},
   "outputs": [
    {
     "name": "stdout",
     "output_type": "stream",
     "text": [
      "<class 'numpy.float64'>\n"
     ]
    },
    {
     "data": {
      "image/png": "[encoded data removed]",
      "text/plain": [
       "<matplotlib.figure.Figure at 0x7f405cd72e80>"
      ]
     },
     "metadata": {},
     "output_type": "display_data"
    }
   ],
   "source": [
    "print(type(arr.val_float[0]))\n",
    "ml.plt_pq(arr, arr)\n"
   ]
  },
  {
   "cell_type": "code",
   "execution_count": 7,
   "metadata": {},
   "outputs": [
    {
     "data": {
      "text/plain": [
       "log(32*centimeter)"
      ]
     },
     "execution_count": 7,
     "metadata": {},
     "output_type": "execute_result"
    }
   ],
   "source": [
    "sp.log(32*u.cm)"
   ]
  },
  {
   "cell_type": "code",
   "execution_count": null,
   "metadata": {},
   "outputs": [],
   "source": []
  }
 ],
 "metadata": {
  "kernelspec": {
   "display_name": "Python 3",
   "language": "python",
   "name": "python3"
  },
  "language_info": {
   "codemirror_mode": {
    "name": "ipython",
    "version": 3
   },
   "file_extension": ".py",
   "mimetype": "text/x-python",
   "name": "python",
   "nbconvert_exporter": "python",
   "pygments_lexer": "ipython3",
   "version": "3.6.0"
  }
 },
 "nbformat": 4,
 "nbformat_minor": 2
}
