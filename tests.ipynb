{
 "cells": [
  {
   "cell_type": "code",
   "execution_count": 1,
   "metadata": {},
   "outputs": [],
   "source": [
    "%load_ext autoreload\n",
    "%autoreload 2"
   ]
  },
  {
   "cell_type": "code",
   "execution_count": 2,
   "metadata": {},
   "outputs": [],
   "source": [
    "import sympy.physics.units as u\n",
    "import sympy as sp\n",
    "\n",
    "import numpy as np\n",
    "import logging as log\n",
    "import functools\n",
    "import matplotlib.pyplot as plt\n",
    "import seaborn\n",
    "%matplotlib inline\n",
    "\n",
    "import importlib.util\n",
    "#spec = importlib.util.spec_from_file_location(\"miptlabs\", \"/full/path/to/miptlabs.py\")\n",
    "#miptlabs = importlib.util.module_from_spec(spec)\n",
    "#spec.loader.exec_module(miptlabs)\n",
    "#ml = miptlabs\n",
    "\n",
    "import miptlabs as ml\n",
    "importlib.reload(ml)\n",
    "\n",
    "import sys, importlib\n",
    "importlib.reload(log)\n",
    "log.basicConfig(level=log.INFO, format='%(message)s', stream=sys.stdout)\n",
    "\n",
    "#sp.latex=lambda expr, **settings:ml.PQLatexPrinter(settings).doprint(expr)\n",
    "sp.Basic.__str__=lambda expr, **settings:ml.PQStrPrinter(settings).doprint(expr)\n",
    "#sp.Basic.__str__=lambda expr, **settings:ml.PQLatexPrinter(settings).doprint(expr)\n",
    "#sp.init_printing(latex_printer=ml.PQLatexPrinter)\n",
    "#sp.init_printing()\n",
    "#sp.Basic.__str__ = lambda self: ml.PQLatexPrinter().doprint(self)"
   ]
  },
  {
   "cell_type": "code",
   "execution_count": 3,
   "metadata": {
    "scrolled": false
   },
   "outputs": [
    {
     "name": "stdout",
     "output_type": "stream",
     "text": [
      "12346±3 m (0.024%)\n",
      "12346±3 m (0.024%)\n",
      "12345±3 m (0.024%)\n",
      "0.4±0.3 m (75%)\n",
      "0.40±0.03 m (7.5%)\n",
      "(4.0±0.3)*10^-5 m (7.5%)\n",
      "(12.3±0.3)*10^4 m (2.4%)\n",
      "100000±3 m (0.0030%)\n"
     ]
    }
   ],
   "source": [
    "a = ml.PQ(12345.6*u.m, sigma=3*u.m, dim=u.m)\n",
    "print(a) #12346±3 meter (0.024%)\n",
    "a1 = ml.PQ(12345.5*u.m, sigma=3*u.m, dim=u.m)\n",
    "print(a1) #12346±3 meter (0.024%)\n",
    "b = ml.PQ(12345.4*u.m, sigma=3*u.m, dim=u.m)\n",
    "print(b) #12345±3 meter (0.024%)\n",
    "c = ml.PQ(0.4*u.m, sigma=0.3*u.m, dim=u.m)\n",
    "print(c) #0.4±0.3 meter (75%)\n",
    "d = ml.PQ(0.4*u.m, sigma=0.03*u.m, dim=u.m)\n",
    "print(d) #0.40±0.03 meter (7.5%)\n",
    "e = ml.PQ(0.00004*u.m, sigma=0.000003*u.m)\n",
    "print(e) #(4.0±0.3)*10^-5 meter (7.5%)\n",
    "f = ml.PQ(123456*u.m, sigma=3000*u.m)\n",
    "print(f) #(12.3±0.3)*10^4 meter (2.4%)\n",
    "g = ml.PQ(100000*u.m, sigma=3*u.m)\n",
    "print(g) #100000±3 meter (0.0030%)\n",
    "#display(32*u.m)\n",
    "#display(a)\n",
    "#print(sp.latex(a))\n",
    "#display(sp.latex(a))\n",
    "#a"
   ]
  },
  {
   "cell_type": "code",
   "execution_count": 4,
   "metadata": {},
   "outputs": [
    {
     "name": "stdout",
     "output_type": "stream",
     "text": [
      "1.0000±0.0010 m (0.10%)\n",
      "2.0000±0.0010 m (0.050%)\n",
      "2.0000±0.0010 m (0.050%)\n",
      "3.000±0.020 mm (0.67%)\n",
      "2.000±0.010 s (0.50%)\n",
      "3.0000±0.0014 m (0.047%)\n",
      "3.000±0.003 m (0.10%)\n",
      "2.0000±0.0022 m**2 (0.11%)\n",
      "(500.0±0.6)*10^-3  (0.11%)\n",
      "0.5*s/m\n",
      "(5000.00±2.50)*10^-4 1/m (0.050%)\n",
      "[1.0000±0.0010 m (0.10%) 2.0000±0.0010 m (0.050%) 2.0000±0.0010 m (0.050%)]\n",
      "m\n",
      "2.0000±0.0020 m (0.10%)\n"
     ]
    }
   ],
   "source": [
    "\n",
    "a = ml.PQ(1.0*u.m, dim=u.meter, sigma=1.0*u.mm) # Почему meter/m не считается?\n",
    "b = ml.PQ(2.0*u.m, sigma=1.0*u.mm)\n",
    "c = ml.PQ(2.0*u.m, sigma=1.0*u.mm)\n",
    "d = ml.PQ(3.0*u.mm, sigma=0.02*u.mm)\n",
    "t = ml.PQ(2.0*u.s,  sigma=0.01*u.s)\n",
    "try:\n",
    "    test = ml.PQ(a, sigma=2*u.m)\n",
    "except Exception:\n",
    "    pass\n",
    "arr = ml.pqarray([a, b, c])\n",
    "\n",
    "print(a) #1.0000±0.0010 meter (0.10%)\n",
    "print(b) #2.0000±0.0010 meter (0.050%)\n",
    "print(c) #2.0000±0.0010 meter (0.050%)\n",
    "print(d) #3.0±2.0 millimeter (67%)\n",
    "print(t) #2.000±0.010 second (0.50%)\n",
    "# type(u.m)\n",
    "# u.convert_to(a.sigma, a.dim)\n",
    "print(a+b) #3.0000±0.0014 meter (0.047%)\n",
    "print((a*3)) #3.000±0.003 meter (0.10%)\n",
    "print(a*b) #2.0000±0.0022 meter**2 (0.11%)\n",
    "print(a/b) # 0.500000±0.000559 1 (0.001118)\n",
    "print((u.s/b).val) #Откуда берётся 2?\n",
    "print(1/b) #(5000.00±2.50)*10^-4 1/meter (0.050%)\n",
    "\n",
    "# type(u.m.args[1])\n",
    "print(arr)\n",
    "print((arr-a)[0].dim)\n",
    "print(a*2)"
   ]
  },
  {
   "cell_type": "code",
   "execution_count": 5,
   "metadata": {},
   "outputs": [
    {
     "name": "stdout",
     "output_type": "stream",
     "text": [
      "[1.0000±0.0010 m (0.10%) 2.0000±0.0010 m (0.050%) 2.0000±0.0010 m (0.050%)] 1.0000±0.0010 m (0.10%)\n",
      "-arr [-1.0000±0.0010 m (0.10%) -2.0000±0.0010 m (0.050%)\n",
      " -2.0000±0.0010 m (0.050%)]\n",
      "a+arr [2.0000±0.0028 m (0.14%) 3.0000±0.0014 m (0.047%) 3.0000±0.0014 m (0.047%)]\n",
      "arr+a [2.0000±0.0028 m (0.14%) 3.0000±0.0014 m (0.047%) 3.0000±0.0014 m (0.047%)]\n",
      "a-arr [0.0000±0.0014 m (NaN%) -1.0000±0.0014 m (0.14%) -1.0000±0.0014 m (0.14%)]\n",
      "arr-a [0.00±0.00 m (NaN%) 1.0000±0.0014 m (0.14%) 1.0000±0.0014 m (0.14%)]\n",
      "b*arr [2.0000±0.0022 m**2 (0.11%) 4.000±0.006 m**2 (0.14%)\n",
      " 4.0000±0.0028 m**2 (0.071%)]\n",
      "arr*b [2.0000±0.0022 m**2 (0.11%) 4.000±0.006 m**2 (0.14%)\n",
      " 4.0000±0.0028 m**2 (0.071%)]\n",
      "b/arr [2.0000±0.0022  (0.11%) (1000.0±0.7)*10^-3  (0.071%)\n",
      " (1000.0±0.7)*10^-3  (0.071%)]\n",
      "arr/b [(500.0±0.6)*10^-3  (0.11%) 1.00±0.00  (0.00%) (1000.0±0.7)*10^-3  (0.071%)]\n",
      "b**[1,2,3] [2.0000±0.0010 m (0.050%) 4.000±0.004 m**2 (0.10%) 8.000±0.012 m**3 (0.15%)]\n",
      "arr**2 [1.0000±0.0028 m**2 (0.28%) 4.000±0.006 m**2 (0.14%)\n",
      " 4.000±0.006 m**2 (0.14%)]\n",
      "np.sqrt(arr) [(1000.0±0.5)*10^-3 sqrt(m) (0.050%) (1414.2±0.4)*10^-3 sqrt(m) (0.025%)\n",
      " (1414.2±0.4)*10^-3 sqrt(m) (0.025%)]\n"
     ]
    }
   ],
   "source": [
    "import pandas as pd\n",
    "print(arr,a)\n",
    "print('-arr', -arr)\n",
    "print('a+arr', a+arr)\n",
    "print('arr+a', arr+a)\n",
    "print('a-arr', (a-arr))\n",
    "print('arr-a', (arr-a)) # Ошибка в погрешности первого значения\n",
    "print('b*arr', b*arr)\n",
    "print('arr*b', arr*b)\n",
    "print('b/arr', b/arr)\n",
    "print('arr/b', arr/b)\n",
    "print('b**[1,2,3]', b**[1,2,3])\n",
    "print('arr**2', arr**2)\n",
    "print('np.sqrt(arr)', np.sqrt(arr))"
   ]
  },
  {
   "cell_type": "code",
   "execution_count": 6,
   "metadata": {},
   "outputs": [
    {
     "name": "stdout",
     "output_type": "stream",
     "text": [
      "s/(s*second)\n",
      "0.5*s/(s*second)\n",
      "2.0*m/s\n"
     ]
    }
   ],
   "source": [
    "x = (u.s/b)\n",
    "print(np.prod(np.array(sp.simplify((x.val/x.dim).n().n()).args)[1:]))\n",
    "print(x.val/x.dim)\n",
    "print((b/u.s).val)"
   ]
  },
  {
   "cell_type": "code",
   "execution_count": 7,
   "metadata": {},
   "outputs": [
    {
     "name": "stdout",
     "output_type": "stream",
     "text": [
      "<class 'numpy.float64'>\n"
     ]
    },
    {
     "data": {
      "image/png": "[encoded data removed]",
      "text/plain": [
       "<matplotlib.figure.Figure at 0x7fdf30402470>"
      ]
     },
     "metadata": {},
     "output_type": "display_data"
    }
   ],
   "source": [
    "print(type(arr.val_float[0]))\n",
    "ml.plt_pq(arr, arr)\n"
   ]
  },
  {
   "cell_type": "code",
   "execution_count": 8,
   "metadata": {},
   "outputs": [
    {
     "data": {
      "text/plain": [
       "log(32*centimeter)"
      ]
     },
     "execution_count": 8,
     "metadata": {},
     "output_type": "execute_result"
    }
   ],
   "source": [
    "sp.log(32*u.cm)"
   ]
  },
  {
   "cell_type": "code",
   "execution_count": 10,
   "metadata": {},
   "outputs": [
    {
     "ename": "AttributeError",
     "evalue": "'Mul' object has no attribute 'scale_factor'",
     "output_type": "error",
     "traceback": [
      "\u001b[0;31m---------------------------------------------------------------------------\u001b[0m",
      "\u001b[0;31mAttributeError\u001b[0m                            Traceback (most recent call last)",
      "\u001b[0;32m<ipython-input-10-da0126eff2de>\u001b[0m in \u001b[0;36m<module>\u001b[0;34m()\u001b[0m\n\u001b[0;32m----> 1\u001b[0;31m \u001b[0mx\u001b[0m \u001b[0;34m=\u001b[0m \u001b[0mml\u001b[0m\u001b[0;34m.\u001b[0m\u001b[0mPQ\u001b[0m\u001b[0;34m(\u001b[0m\u001b[0;36m2.0\u001b[0m\u001b[0;34m*\u001b[0m\u001b[0mu\u001b[0m\u001b[0;34m.\u001b[0m\u001b[0mmilli\u001b[0m\u001b[0;34m*\u001b[0m\u001b[0mu\u001b[0m\u001b[0;34m.\u001b[0m\u001b[0mm\u001b[0m\u001b[0;34m,\u001b[0m \u001b[0msigma\u001b[0m\u001b[0;34m=\u001b[0m\u001b[0;36m0.1\u001b[0m\u001b[0;34m*\u001b[0m\u001b[0mu\u001b[0m\u001b[0;34m.\u001b[0m\u001b[0mmilli\u001b[0m\u001b[0;34m*\u001b[0m\u001b[0mu\u001b[0m\u001b[0;34m.\u001b[0m\u001b[0mm\u001b[0m\u001b[0;34m)\u001b[0m\u001b[0;34m\u001b[0m\u001b[0m\n\u001b[0m\u001b[1;32m      2\u001b[0m \u001b[0mx\u001b[0m\u001b[0;34m.\u001b[0m\u001b[0msigma\u001b[0m\u001b[0;34m\u001b[0m\u001b[0m\n",
      "\u001b[0;32m~/code/miptlabs/miptlabs/pq.py\u001b[0m in \u001b[0;36m__init__\u001b[0;34m(self, val, dim, sigma, epsilon, symbol, is_const)\u001b[0m\n\u001b[1;32m     79\u001b[0m                 \u001b[0;32mraise\u001b[0m \u001b[0mException\u001b[0m\u001b[0;34m(\u001b[0m\u001b[0;34m'Impossible to deduce dim (note: zero is dimensionless)'\u001b[0m\u001b[0;34m)\u001b[0m\u001b[0;34m\u001b[0m\u001b[0m\n\u001b[1;32m     80\u001b[0m \u001b[0;34m\u001b[0m\u001b[0m\n\u001b[0;32m---> 81\u001b[0;31m         \u001b[0mself\u001b[0m\u001b[0;34m.\u001b[0m\u001b[0mval\u001b[0m \u001b[0;34m=\u001b[0m \u001b[0mu\u001b[0m\u001b[0;34m.\u001b[0m\u001b[0mconvert_to\u001b[0m\u001b[0;34m(\u001b[0m\u001b[0mval\u001b[0m\u001b[0;34m,\u001b[0m \u001b[0mself\u001b[0m\u001b[0;34m.\u001b[0m\u001b[0mdim\u001b[0m\u001b[0;34m)\u001b[0m\u001b[0;34m\u001b[0m\u001b[0m\n\u001b[0m\u001b[1;32m     82\u001b[0m \u001b[0;34m\u001b[0m\u001b[0m\n\u001b[1;32m     83\u001b[0m         \u001b[0;32mif\u001b[0m \u001b[0msigma\u001b[0m \u001b[0;32mis\u001b[0m \u001b[0;32mnot\u001b[0m \u001b[0;32mNone\u001b[0m\u001b[0;34m:\u001b[0m\u001b[0;34m\u001b[0m\u001b[0m\n",
      "\u001b[0;32m~/.pyenv/versions/3.6.0/lib/python3.6/site-packages/sympy-1.1.2.dev0-py3.6.egg/sympy/physics/units/util.py\u001b[0m in \u001b[0;36mconvert_to\u001b[0;34m(expr, target_units)\u001b[0m\n\u001b[1;32m    128\u001b[0m \u001b[0;34m\u001b[0m\u001b[0m\n\u001b[1;32m    129\u001b[0m     \u001b[0mexpr_scale_factor\u001b[0m \u001b[0;34m=\u001b[0m \u001b[0mget_total_scale_factor\u001b[0m\u001b[0;34m(\u001b[0m\u001b[0mexpr\u001b[0m\u001b[0;34m)\u001b[0m\u001b[0;34m\u001b[0m\u001b[0m\n\u001b[0;32m--> 130\u001b[0;31m     \u001b[0;32mreturn\u001b[0m \u001b[0mexpr_scale_factor\u001b[0m \u001b[0;34m*\u001b[0m \u001b[0mMul\u001b[0m\u001b[0;34m.\u001b[0m\u001b[0mfromiter\u001b[0m\u001b[0;34m(\u001b[0m\u001b[0;34m(\u001b[0m\u001b[0;36m1\u001b[0m\u001b[0;34m/\u001b[0m\u001b[0mget_total_scale_factor\u001b[0m\u001b[0;34m(\u001b[0m\u001b[0mu\u001b[0m\u001b[0;34m)\u001b[0m \u001b[0;34m*\u001b[0m \u001b[0mu\u001b[0m\u001b[0;34m)\u001b[0m \u001b[0;34m**\u001b[0m \u001b[0mp\u001b[0m \u001b[0;32mfor\u001b[0m \u001b[0mu\u001b[0m\u001b[0;34m,\u001b[0m \u001b[0mp\u001b[0m \u001b[0;32min\u001b[0m \u001b[0mzip\u001b[0m\u001b[0;34m(\u001b[0m\u001b[0mtarget_units\u001b[0m\u001b[0;34m,\u001b[0m \u001b[0mdepmat\u001b[0m\u001b[0;34m)\u001b[0m\u001b[0;34m)\u001b[0m\u001b[0;34m\u001b[0m\u001b[0m\n\u001b[0m",
      "\u001b[0;32m~/.pyenv/versions/3.6.0/lib/python3.6/site-packages/sympy-1.1.2.dev0-py3.6.egg/sympy/core/basic.py\u001b[0m in \u001b[0;36mfromiter\u001b[0;34m(cls, args, **assumptions)\u001b[0m\n\u001b[1;32m    242\u001b[0m \u001b[0;34m\u001b[0m\u001b[0m\n\u001b[1;32m    243\u001b[0m         \"\"\"\n\u001b[0;32m--> 244\u001b[0;31m         \u001b[0;32mreturn\u001b[0m \u001b[0mcls\u001b[0m\u001b[0;34m(\u001b[0m\u001b[0;34m*\u001b[0m\u001b[0mtuple\u001b[0m\u001b[0;34m(\u001b[0m\u001b[0margs\u001b[0m\u001b[0;34m)\u001b[0m\u001b[0;34m,\u001b[0m \u001b[0;34m**\u001b[0m\u001b[0massumptions\u001b[0m\u001b[0;34m)\u001b[0m\u001b[0;34m\u001b[0m\u001b[0m\n\u001b[0m\u001b[1;32m    245\u001b[0m \u001b[0;34m\u001b[0m\u001b[0m\n\u001b[1;32m    246\u001b[0m     \u001b[0;34m@\u001b[0m\u001b[0mclassmethod\u001b[0m\u001b[0;34m\u001b[0m\u001b[0m\n",
      "\u001b[0;32m~/.pyenv/versions/3.6.0/lib/python3.6/site-packages/sympy-1.1.2.dev0-py3.6.egg/sympy/physics/units/util.py\u001b[0m in \u001b[0;36m<genexpr>\u001b[0;34m(.0)\u001b[0m\n\u001b[1;32m    128\u001b[0m \u001b[0;34m\u001b[0m\u001b[0m\n\u001b[1;32m    129\u001b[0m     \u001b[0mexpr_scale_factor\u001b[0m \u001b[0;34m=\u001b[0m \u001b[0mget_total_scale_factor\u001b[0m\u001b[0;34m(\u001b[0m\u001b[0mexpr\u001b[0m\u001b[0;34m)\u001b[0m\u001b[0;34m\u001b[0m\u001b[0m\n\u001b[0;32m--> 130\u001b[0;31m     \u001b[0;32mreturn\u001b[0m \u001b[0mexpr_scale_factor\u001b[0m \u001b[0;34m*\u001b[0m \u001b[0mMul\u001b[0m\u001b[0;34m.\u001b[0m\u001b[0mfromiter\u001b[0m\u001b[0;34m(\u001b[0m\u001b[0;34m(\u001b[0m\u001b[0;36m1\u001b[0m\u001b[0;34m/\u001b[0m\u001b[0mget_total_scale_factor\u001b[0m\u001b[0;34m(\u001b[0m\u001b[0mu\u001b[0m\u001b[0;34m)\u001b[0m \u001b[0;34m*\u001b[0m \u001b[0mu\u001b[0m\u001b[0;34m)\u001b[0m \u001b[0;34m**\u001b[0m \u001b[0mp\u001b[0m \u001b[0;32mfor\u001b[0m \u001b[0mu\u001b[0m\u001b[0;34m,\u001b[0m \u001b[0mp\u001b[0m \u001b[0;32min\u001b[0m \u001b[0mzip\u001b[0m\u001b[0;34m(\u001b[0m\u001b[0mtarget_units\u001b[0m\u001b[0;34m,\u001b[0m \u001b[0mdepmat\u001b[0m\u001b[0;34m)\u001b[0m\u001b[0;34m)\u001b[0m\u001b[0;34m\u001b[0m\u001b[0m\n\u001b[0m",
      "\u001b[0;32m~/.pyenv/versions/3.6.0/lib/python3.6/site-packages/sympy-1.1.2.dev0-py3.6.egg/sympy/physics/units/prefixes.py\u001b[0m in \u001b[0;36m__mul__\u001b[0;34m(self, other)\u001b[0m\n\u001b[1;32m     74\u001b[0m \u001b[0;34m\u001b[0m\u001b[0m\n\u001b[1;32m     75\u001b[0m     \u001b[0;32mdef\u001b[0m \u001b[0m__mul__\u001b[0m\u001b[0;34m(\u001b[0m\u001b[0mself\u001b[0m\u001b[0;34m,\u001b[0m \u001b[0mother\u001b[0m\u001b[0;34m)\u001b[0m\u001b[0;34m:\u001b[0m\u001b[0;34m\u001b[0m\u001b[0m\n\u001b[0;32m---> 76\u001b[0;31m         \u001b[0mfact\u001b[0m \u001b[0;34m=\u001b[0m \u001b[0mself\u001b[0m\u001b[0;34m.\u001b[0m\u001b[0mscale_factor\u001b[0m \u001b[0;34m*\u001b[0m \u001b[0mother\u001b[0m\u001b[0;34m.\u001b[0m\u001b[0mscale_factor\u001b[0m\u001b[0;34m\u001b[0m\u001b[0m\n\u001b[0m\u001b[1;32m     77\u001b[0m \u001b[0;34m\u001b[0m\u001b[0m\n\u001b[1;32m     78\u001b[0m         \u001b[0;32mif\u001b[0m \u001b[0mfact\u001b[0m \u001b[0;34m==\u001b[0m \u001b[0;36m1\u001b[0m\u001b[0;34m:\u001b[0m\u001b[0;34m\u001b[0m\u001b[0m\n",
      "\u001b[0;31mAttributeError\u001b[0m: 'Mul' object has no attribute 'scale_factor'"
     ]
    }
   ],
   "source": [
    "x = ml.PQ(2.0*u.milli*u.m, sigma=0.1*u.milli*u.m)\n",
    "x.sigma"
   ]
  },
  {
   "cell_type": "code",
   "execution_count": null,
   "metadata": {},
   "outputs": [],
   "source": []
  },
  {
   "cell_type": "code",
   "execution_count": null,
   "metadata": {},
   "outputs": [],
   "source": []
  }
 ],
 "metadata": {
  "kernelspec": {
   "display_name": "Python 3",
   "language": "python",
   "name": "python3"
  },
  "language_info": {
   "codemirror_mode": {
    "name": "ipython",
    "version": 3
   },
   "file_extension": ".py",
   "mimetype": "text/x-python",
   "name": "python",
   "nbconvert_exporter": "python",
   "pygments_lexer": "ipython3",
   "version": "3.6.0"
  }
 },
 "nbformat": 4,
 "nbformat_minor": 2
}
