{
 "cells": [
  {
   "cell_type": "code",
   "execution_count": 13,
   "metadata": {},
   "outputs": [
    {
     "name": "stdout",
     "output_type": "stream",
     "text": [
      "The autoreload extension is already loaded. To reload it, use:\n",
      "  %reload_ext autoreload\n"
     ]
    }
   ],
   "source": [
    "%load_ext autoreload\n",
    "%autoreload 2"
   ]
  },
  {
   "cell_type": "code",
   "execution_count": 39,
   "metadata": {},
   "outputs": [],
   "source": [
    "import sympy.physics.units as u\n",
    "import sympy as sp\n",
    "import numpy as np\n",
    "import logging as log\n",
    "import functools\n",
    "import matplotlib.pyplot as plt\n",
    "import seaborn\n",
    "import pandas as pd\n",
    "%matplotlib inline\n",
    "\n",
    "import importlib.util\n",
    "#spec = importlib.util.spec_from_file_location(\"miptlabs\", \"/full/path/to/miptlabs.py\")\n",
    "#miptlabs = importlib.util.module_from_spec(spec)\n",
    "#spec.loader.exec_module(miptlabs)\n",
    "#ml = miptlabs\n",
    "\n",
    "import miptlabs as ml\n",
    "importlib.reload(ml)\n",
    "\n",
    "import sys, importlib\n",
    "importlib.reload(log)\n",
    "log.basicConfig(level=log.INFO, format='%(message)s', stream=sys.stdout)"
   ]
  },
  {
   "cell_type": "code",
   "execution_count": 40,
   "metadata": {},
   "outputs": [],
   "source": [
    "d_s = ml.pqarray([ml.PQ(3.9*u.mm, sigma=0.05*u.mm), ml.PQ(5.20*u.mm, sigma=0.05*u.mm)])\n",
    "r_s = d_s/2\n",
    "Re_laminar = ml.PQ(1000, is_const=True)\n",
    "a_approx = 0.2*r_s*Re_laminar # Примерное расстояние, с которого начнётся ламинарное течение\n",
    "g = ml.PQ(9.815*u.m/u.s**2, is_const=True)\n",
    "ro = ml.PQ(1.2047*u.kg/u.m**3, is_const=True)\n",
    "manom_coef = 9.80665*u.pascal\n",
    "k = 0.2 # Коэффициент наклона трубки ММН"
   ]
  },
  {
   "cell_type": "code",
   "execution_count": 41,
   "metadata": {},
   "outputs": [
    {
     "data": {
      "text/html": [
       "<div>\n",
       "<style>\n",
       "    .dataframe thead tr:only-child th {\n",
       "        text-align: right;\n",
       "    }\n",
       "\n",
       "    .dataframe thead th {\n",
       "        text-align: left;\n",
       "    }\n",
       "\n",
       "    .dataframe tbody tr th {\n",
       "        vertical-align: top;\n",
       "    }\n",
       "</style>\n",
       "<table border=\"1\" class=\"dataframe\">\n",
       "  <thead>\n",
       "    <tr style=\"text-align: right;\">\n",
       "      <th></th>\n",
       "      <th>delta_P</th>\n",
       "      <th>delta_V</th>\n",
       "      <th>delta_T</th>\n",
       "      <th>delta_l</th>\n",
       "      <th>delta_P.1</th>\n",
       "      <th>delta_V.1</th>\n",
       "      <th>delta_T.1</th>\n",
       "      <th>delta_l.1</th>\n",
       "    </tr>\n",
       "  </thead>\n",
       "  <tbody>\n",
       "    <tr>\n",
       "      <th>0</th>\n",
       "      <td>10</td>\n",
       "      <td>0.5</td>\n",
       "      <td>35.00</td>\n",
       "      <td>11.2</td>\n",
       "      <td>10.0</td>\n",
       "      <td>1.0</td>\n",
       "      <td>26.25</td>\n",
       "      <td>11.5</td>\n",
       "    </tr>\n",
       "    <tr>\n",
       "      <th>1</th>\n",
       "      <td>20</td>\n",
       "      <td>1.0</td>\n",
       "      <td>37.00</td>\n",
       "      <td>30.0</td>\n",
       "      <td>15.0</td>\n",
       "      <td>1.0</td>\n",
       "      <td>16.84</td>\n",
       "      <td>30.0</td>\n",
       "    </tr>\n",
       "    <tr>\n",
       "      <th>2</th>\n",
       "      <td>30</td>\n",
       "      <td>1.0</td>\n",
       "      <td>25.00</td>\n",
       "      <td>40.0</td>\n",
       "      <td>20.0</td>\n",
       "      <td>1.0</td>\n",
       "      <td>12.87</td>\n",
       "      <td>40.0</td>\n",
       "    </tr>\n",
       "    <tr>\n",
       "      <th>3</th>\n",
       "      <td>40</td>\n",
       "      <td>1.0</td>\n",
       "      <td>18.50</td>\n",
       "      <td>50.0</td>\n",
       "      <td>25.0</td>\n",
       "      <td>1.0</td>\n",
       "      <td>10.00</td>\n",
       "      <td>50.0</td>\n",
       "    </tr>\n",
       "    <tr>\n",
       "      <th>4</th>\n",
       "      <td>50</td>\n",
       "      <td>1.0</td>\n",
       "      <td>14.62</td>\n",
       "      <td>NaN</td>\n",
       "      <td>30.0</td>\n",
       "      <td>1.0</td>\n",
       "      <td>8.57</td>\n",
       "      <td>NaN</td>\n",
       "    </tr>\n",
       "    <tr>\n",
       "      <th>5</th>\n",
       "      <td>60</td>\n",
       "      <td>1.0</td>\n",
       "      <td>12.69</td>\n",
       "      <td>NaN</td>\n",
       "      <td>35.0</td>\n",
       "      <td>1.0</td>\n",
       "      <td>7.46</td>\n",
       "      <td>NaN</td>\n",
       "    </tr>\n",
       "    <tr>\n",
       "      <th>6</th>\n",
       "      <td>70</td>\n",
       "      <td>1.0</td>\n",
       "      <td>10.91</td>\n",
       "      <td>NaN</td>\n",
       "      <td>40.0</td>\n",
       "      <td>2.0</td>\n",
       "      <td>14.28</td>\n",
       "      <td>NaN</td>\n",
       "    </tr>\n",
       "    <tr>\n",
       "      <th>7</th>\n",
       "      <td>80</td>\n",
       "      <td>1.0</td>\n",
       "      <td>9.87</td>\n",
       "      <td>NaN</td>\n",
       "      <td>53.0</td>\n",
       "      <td>2.0</td>\n",
       "      <td>13.13</td>\n",
       "      <td>NaN</td>\n",
       "    </tr>\n",
       "    <tr>\n",
       "      <th>8</th>\n",
       "      <td>93</td>\n",
       "      <td>2.0</td>\n",
       "      <td>19.34</td>\n",
       "      <td>NaN</td>\n",
       "      <td>73.0</td>\n",
       "      <td>2.0</td>\n",
       "      <td>11.97</td>\n",
       "      <td>NaN</td>\n",
       "    </tr>\n",
       "    <tr>\n",
       "      <th>9</th>\n",
       "      <td>105</td>\n",
       "      <td>2.0</td>\n",
       "      <td>19.14</td>\n",
       "      <td>NaN</td>\n",
       "      <td>93.0</td>\n",
       "      <td>2.0</td>\n",
       "      <td>10.56</td>\n",
       "      <td>NaN</td>\n",
       "    </tr>\n",
       "    <tr>\n",
       "      <th>10</th>\n",
       "      <td>130</td>\n",
       "      <td>2.0</td>\n",
       "      <td>17.65</td>\n",
       "      <td>NaN</td>\n",
       "      <td>111.0</td>\n",
       "      <td>2.0</td>\n",
       "      <td>9.57</td>\n",
       "      <td>NaN</td>\n",
       "    </tr>\n",
       "    <tr>\n",
       "      <th>11</th>\n",
       "      <td>149</td>\n",
       "      <td>2.0</td>\n",
       "      <td>17.19</td>\n",
       "      <td>NaN</td>\n",
       "      <td>130.0</td>\n",
       "      <td>2.0</td>\n",
       "      <td>8.82</td>\n",
       "      <td>NaN</td>\n",
       "    </tr>\n",
       "    <tr>\n",
       "      <th>12</th>\n",
       "      <td>169</td>\n",
       "      <td>2.0</td>\n",
       "      <td>16.28</td>\n",
       "      <td>NaN</td>\n",
       "      <td>150.0</td>\n",
       "      <td>2.0</td>\n",
       "      <td>8.12</td>\n",
       "      <td>NaN</td>\n",
       "    </tr>\n",
       "    <tr>\n",
       "      <th>13</th>\n",
       "      <td>200</td>\n",
       "      <td>2.0</td>\n",
       "      <td>15.00</td>\n",
       "      <td>NaN</td>\n",
       "      <td>171.0</td>\n",
       "      <td>3.0</td>\n",
       "      <td>11.31</td>\n",
       "      <td>NaN</td>\n",
       "    </tr>\n",
       "    <tr>\n",
       "      <th>14</th>\n",
       "      <td>220</td>\n",
       "      <td>2.0</td>\n",
       "      <td>14.28</td>\n",
       "      <td>NaN</td>\n",
       "      <td>190.0</td>\n",
       "      <td>3.0</td>\n",
       "      <td>10.85</td>\n",
       "      <td>NaN</td>\n",
       "    </tr>\n",
       "    <tr>\n",
       "      <th>15</th>\n",
       "      <td>242</td>\n",
       "      <td>2.0</td>\n",
       "      <td>13.31</td>\n",
       "      <td>NaN</td>\n",
       "      <td>210.0</td>\n",
       "      <td>3.0</td>\n",
       "      <td>10.13</td>\n",
       "      <td>NaN</td>\n",
       "    </tr>\n",
       "    <tr>\n",
       "      <th>16</th>\n",
       "      <td>258</td>\n",
       "      <td>2.0</td>\n",
       "      <td>12.97</td>\n",
       "      <td>NaN</td>\n",
       "      <td>NaN</td>\n",
       "      <td>NaN</td>\n",
       "      <td>NaN</td>\n",
       "      <td>NaN</td>\n",
       "    </tr>\n",
       "    <tr>\n",
       "      <th>17</th>\n",
       "      <td>280</td>\n",
       "      <td>2.0</td>\n",
       "      <td>12.31</td>\n",
       "      <td>NaN</td>\n",
       "      <td>NaN</td>\n",
       "      <td>NaN</td>\n",
       "      <td>NaN</td>\n",
       "      <td>NaN</td>\n",
       "    </tr>\n",
       "  </tbody>\n",
       "</table>\n",
       "</div>"
      ],
      "text/plain": [
       "    delta_P  delta_V  delta_T  delta_l  delta_P.1  delta_V.1  delta_T.1  \\\n",
       "0        10      0.5    35.00     11.2       10.0        1.0      26.25   \n",
       "1        20      1.0    37.00     30.0       15.0        1.0      16.84   \n",
       "2        30      1.0    25.00     40.0       20.0        1.0      12.87   \n",
       "3        40      1.0    18.50     50.0       25.0        1.0      10.00   \n",
       "4        50      1.0    14.62      NaN       30.0        1.0       8.57   \n",
       "5        60      1.0    12.69      NaN       35.0        1.0       7.46   \n",
       "6        70      1.0    10.91      NaN       40.0        2.0      14.28   \n",
       "7        80      1.0     9.87      NaN       53.0        2.0      13.13   \n",
       "8        93      2.0    19.34      NaN       73.0        2.0      11.97   \n",
       "9       105      2.0    19.14      NaN       93.0        2.0      10.56   \n",
       "10      130      2.0    17.65      NaN      111.0        2.0       9.57   \n",
       "11      149      2.0    17.19      NaN      130.0        2.0       8.82   \n",
       "12      169      2.0    16.28      NaN      150.0        2.0       8.12   \n",
       "13      200      2.0    15.00      NaN      171.0        3.0      11.31   \n",
       "14      220      2.0    14.28      NaN      190.0        3.0      10.85   \n",
       "15      242      2.0    13.31      NaN      210.0        3.0      10.13   \n",
       "16      258      2.0    12.97      NaN        NaN        NaN        NaN   \n",
       "17      280      2.0    12.31      NaN        NaN        NaN        NaN   \n",
       "\n",
       "    delta_l.1  \n",
       "0        11.5  \n",
       "1        30.0  \n",
       "2        40.0  \n",
       "3        50.0  \n",
       "4         NaN  \n",
       "5         NaN  \n",
       "6         NaN  \n",
       "7         NaN  \n",
       "8         NaN  \n",
       "9         NaN  \n",
       "10        NaN  \n",
       "11        NaN  \n",
       "12        NaN  \n",
       "13        NaN  \n",
       "14        NaN  \n",
       "15        NaN  \n",
       "16        NaN  \n",
       "17        NaN  "
      ]
     },
     "execution_count": 41,
     "metadata": {},
     "output_type": "execute_result"
    }
   ],
   "source": [
    "data = pd.read_csv('lab1.3.3.csv')\n",
    "data"
   ]
  },
  {
   "cell_type": "code",
   "execution_count": 42,
   "metadata": {},
   "outputs": [],
   "source": [
    "# Деления\n",
    "#80 +-2, далее +-3, начиная с 220 +-1\n",
    "# 40 +- 2, 130 и далее +-1\n",
    "ticks_s = [ml.pqarray([ml.PQ(val, sigma=0.5) for val in data['delta_P'].dropna().astype(float)]),\n",
    "           ml.pqarray([ml.PQ(val, sigma=0.5) for val in data['delta_P.1'].dropna().astype(float)])]\n",
    "dP_s = [ml.repr_ndarray_as(ticks*manom_coef*k, u.pascal) for ticks in ticks_s]\n",
    "#print('P:', dP_s)\n",
    "dV_s = [ml.pqarray([ml.PQ(val*u.liters, sigma=0.01*u.liters, dim=u.liters) \n",
    "                  for val in data['delta_V'].dropna().astype(float)]),\n",
    "        ml.pqarray([ml.PQ(val*u.liters, sigma=0.01*u.liters, dim=u.liters) \n",
    "                  for val in data['delta_V.1'].dropna().astype(float)])]\n",
    "#print('dV', dV_s)\n",
    "dT_s = [ml.pqarray([ml.PQ(val*u.seconds, sigma=0.5*u.seconds) \n",
    "                  for val in data['delta_T'].dropna().astype(float)]),\n",
    "        ml.pqarray([ml.PQ(val*u.seconds, sigma=0.5*u.seconds) \n",
    "                  for val in data['delta_T.1'].dropna().astype(float)])]\n",
    "#print('dT', dT_s)\n",
    "Q_s = [dV/dT for (dV, dT) in zip(dV_s, dT_s)]\n",
    "#print('Q', Q_s)\n",
    "\n",
    "delta_l_s = [ml.pqarray([ml.PQ(val*u.cm, sigma=0.5*u.cm) for val in data['delta_l'].dropna().astype(float)]),\n",
    "             ml.pqarray([ml.PQ(val*u.cm, sigma=0.5*u.cm) for val in data['delta_l.1'].dropna().astype(float)])]\n",
    "l_s = [np.cumsum(delta_l) for delta_l in delta_l_s]\n",
    "#print(l_s)"
   ]
  },
  {
   "cell_type": "code",
   "execution_count": 43,
   "metadata": {},
   "outputs": [
    {
     "data": {
      "image/png": "[encoded data removed]",
      "text/plain": [
       "<matplotlib.figure.Figure at 0x7faa79d35828>"
      ]
     },
     "metadata": {},
     "output_type": "display_data"
    },
    {
     "name": "stdout",
     "output_type": "stream",
     "text": [
      "k 3663.95681511\n",
      "eta 0.000042±0.000002 pascal*second (5.22%)\n",
      "                                     Q                        dP  \\\n",
      "0   0.0143±0.0004 liter/second (2.46%)   19.6±1.0 pascal (5.00%)   \n",
      "1   0.0270±0.0005 liter/second (1.68%)   39.2±1.0 pascal (2.50%)   \n",
      "2   0.0400±0.0009 liter/second (2.24%)   58.8±1.0 pascal (1.67%)   \n",
      "3   0.0541±0.0016 liter/second (2.88%)   78.5±1.0 pascal (1.25%)   \n",
      "4   0.0684±0.0024 liter/second (3.56%)   98.1±1.0 pascal (1.00%)   \n",
      "5     0.079±0.003 liter/second (4.07%)  117.7±1.0 pascal (0.83%)   \n",
      "6     0.092±0.004 liter/second (4.69%)  137.3±1.0 pascal (0.71%)   \n",
      "7     0.101±0.005 liter/second (5.16%)  156.9±1.0 pascal (0.62%)   \n",
      "8     0.103±0.003 liter/second (2.63%)  182.4±1.0 pascal (0.54%)   \n",
      "9     0.104±0.003 liter/second (2.66%)  205.9±1.0 pascal (0.48%)   \n",
      "10    0.113±0.003 liter/second (2.88%)  255.0±1.0 pascal (0.38%)   \n",
      "11    0.116±0.003 liter/second (2.95%)  292.2±1.0 pascal (0.34%)   \n",
      "12    0.123±0.004 liter/second (3.11%)  331.5±1.0 pascal (0.30%)   \n",
      "13    0.133±0.004 liter/second (3.37%)  392.3±1.0 pascal (0.25%)   \n",
      "14    0.140±0.005 liter/second (3.54%)  431.5±1.0 pascal (0.23%)   \n",
      "15    0.150±0.006 liter/second (3.79%)  474.6±1.0 pascal (0.21%)   \n",
      "16    0.154±0.006 liter/second (3.89%)  506.0±1.0 pascal (0.19%)   \n",
      "17    0.162±0.007 liter/second (4.09%)  549.2±1.0 pascal (0.18%)   \n",
      "\n",
      "                         dT                         dV  \n",
      "0   35.0±0.5 second (1.43%)  0.500±0.010 liter (2.00%)  \n",
      "1   37.0±0.5 second (1.35%)  1.000±0.010 liter (1.00%)  \n",
      "2   25.0±0.5 second (2.00%)  1.000±0.010 liter (1.00%)  \n",
      "3   18.5±0.5 second (2.70%)  1.000±0.010 liter (1.00%)  \n",
      "4   14.6±0.5 second (3.42%)  1.000±0.010 liter (1.00%)  \n",
      "5   12.7±0.5 second (3.94%)  1.000±0.010 liter (1.00%)  \n",
      "6   10.9±0.5 second (4.58%)  1.000±0.010 liter (1.00%)  \n",
      "7    9.9±0.5 second (5.07%)  1.000±0.010 liter (1.00%)  \n",
      "8   19.3±0.5 second (2.59%)  2.000±0.010 liter (0.50%)  \n",
      "9   19.1±0.5 second (2.61%)  2.000±0.010 liter (0.50%)  \n",
      "10  17.6±0.5 second (2.83%)  2.000±0.010 liter (0.50%)  \n",
      "11  17.2±0.5 second (2.91%)  2.000±0.010 liter (0.50%)  \n",
      "12  16.3±0.5 second (3.07%)  2.000±0.010 liter (0.50%)  \n",
      "13  15.0±0.5 second (3.33%)  2.000±0.010 liter (0.50%)  \n",
      "14  14.3±0.5 second (3.50%)  2.000±0.010 liter (0.50%)  \n",
      "15  13.3±0.5 second (3.76%)  2.000±0.010 liter (0.50%)  \n",
      "16  13.0±0.5 second (3.86%)  2.000±0.010 liter (0.50%)  \n",
      "17  12.3±0.5 second (4.06%)  2.000±0.010 liter (0.50%)  \n"
     ]
    },
    {
     "data": {
      "image/png": "[encoded data removed]",
      "text/plain": [
       "<matplotlib.figure.Figure at 0x7faa79a88cf8>"
      ]
     },
     "metadata": {},
     "output_type": "display_data"
    },
    {
     "name": "stdout",
     "output_type": "stream",
     "text": [
      "k 1606.47704542\n",
      "eta 0.000058±0.000002 pascal*second (3.97%)\n",
      "                                     Q                        dP  \\\n",
      "0   0.0381±0.0008 liter/second (2.15%)   19.6±1.0 pascal (5.00%)   \n",
      "1   0.0594±0.0019 liter/second (3.13%)   29.4±1.0 pascal (3.33%)   \n",
      "2     0.078±0.003 liter/second (4.01%)   39.2±1.0 pascal (2.50%)   \n",
      "3     0.100±0.005 liter/second (5.10%)   49.0±1.0 pascal (2.00%)   \n",
      "4     0.117±0.007 liter/second (5.92%)   58.8±1.0 pascal (1.67%)   \n",
      "5     0.134±0.009 liter/second (6.78%)   68.6±1.0 pascal (1.43%)   \n",
      "6     0.140±0.005 liter/second (3.54%)   78.5±1.0 pascal (1.25%)   \n",
      "7     0.152±0.006 liter/second (3.84%)  104.0±1.0 pascal (0.94%)   \n",
      "8     0.167±0.007 liter/second (4.21%)  143.2±1.0 pascal (0.68%)   \n",
      "9     0.189±0.009 liter/second (4.76%)  182.4±1.0 pascal (0.54%)   \n",
      "10    0.209±0.011 liter/second (5.25%)  217.7±1.0 pascal (0.45%)   \n",
      "11    0.227±0.013 liter/second (5.69%)  255.0±1.0 pascal (0.38%)   \n",
      "12    0.246±0.015 liter/second (6.18%)  294.2±1.0 pascal (0.33%)   \n",
      "13    0.265±0.012 liter/second (4.43%)  335.4±1.0 pascal (0.29%)   \n",
      "14    0.276±0.013 liter/second (4.62%)  372.7±1.0 pascal (0.26%)   \n",
      "15    0.296±0.015 liter/second (4.95%)  411.9±1.0 pascal (0.24%)   \n",
      "\n",
      "                         dT                         dV  \n",
      "0   26.2±0.5 second (1.90%)  1.000±0.010 liter (1.00%)  \n",
      "1   16.8±0.5 second (2.97%)  1.000±0.010 liter (1.00%)  \n",
      "2   12.9±0.5 second (3.89%)  1.000±0.010 liter (1.00%)  \n",
      "3   10.0±0.5 second (5.00%)  1.000±0.010 liter (1.00%)  \n",
      "4    8.6±0.5 second (5.83%)  1.000±0.010 liter (1.00%)  \n",
      "5    7.5±0.5 second (6.70%)  1.000±0.010 liter (1.00%)  \n",
      "6   14.3±0.5 second (3.50%)  2.000±0.010 liter (0.50%)  \n",
      "7   13.1±0.5 second (3.81%)  2.000±0.010 liter (0.50%)  \n",
      "8   12.0±0.5 second (4.18%)  2.000±0.010 liter (0.50%)  \n",
      "9   10.6±0.5 second (4.73%)  2.000±0.010 liter (0.50%)  \n",
      "10   9.6±0.5 second (5.22%)  2.000±0.010 liter (0.50%)  \n",
      "11   8.8±0.5 second (5.67%)  2.000±0.010 liter (0.50%)  \n",
      "12   8.1±0.5 second (6.16%)  2.000±0.010 liter (0.50%)  \n",
      "13  11.3±0.5 second (4.42%)  3.000±0.010 liter (0.33%)  \n",
      "14  10.8±0.5 second (4.61%)  3.000±0.010 liter (0.33%)  \n",
      "15  10.1±0.5 second (4.94%)  3.000±0.010 liter (0.33%)  \n"
     ]
    }
   ],
   "source": [
    "for Q, dP, dV, dT, r, lens, laminar_border in zip(Q_s, dP_s, dV_s, dT_s, r_s, delta_l_s, [8, 7]):\n",
    "    new_data = pd.DataFrame({\n",
    "        'dP':dP,\n",
    "        'dV':dV,\n",
    "        'dT':dT,\n",
    "        'Q':Q\n",
    "    })\n",
    "    l = lens[3]\n",
    "    plt.figure(figsize=(15, 7))\n",
    "    ml.plt_pq(Q, dP)\n",
    "    ml.plot_OLS(Q[:laminar_border], dP[:laminar_border])\n",
    "    plt.show()\n",
    "    \n",
    "    ols_coefs, ols_errors = ml.OLS(Q, dP)\n",
    "    print('k', ols_coefs[0])\n",
    "\n",
    "    eta = ml.eval(u.pascal*u.s, lambda r, l, coef:np.pi*r**4/(8*l)*coef*(u.pascal*u.s)/u.liters, r, l, ols_coefs[0])\n",
    "    print('eta', eta)\n",
    "    print(new_data)\n",
    "# Тут смотрим, когда кончается прямая, и отрезаем ненужное"
   ]
  },
  {
   "cell_type": "code",
   "execution_count": 44,
   "metadata": {},
   "outputs": [
    {
     "name": "stdout",
     "output_type": "stream",
     "text": [
      "343±27 kilogram*liter/(meter**3*millimeter*pascal*second**2) (7.91%)\n",
      "derived_dim centimeter (pascal, second)\n"
     ]
    }
   ],
   "source": [
    "# Для переходной области \n",
    "i_border = 5\n",
    "Re = Q[i_border]*ro/(np.pi*r*eta)\n",
    "print(Re)\n",
    "\n",
    "calculated_radius = [8*l*eta/(np.pi*ols_coefs[0])/(u.pascal*u.s)*u.liter]\n",
    "all_r_s = [r]"
   ]
  },
  {
   "cell_type": "code",
   "execution_count": 45,
   "metadata": {},
   "outputs": [],
   "source": [
    "# 6. Для гарантированно ламинарного течения измеряем распределение давления вдоль трубки."
   ]
  },
  {
   "cell_type": "code",
   "execution_count": 46,
   "metadata": {},
   "outputs": [
    {
     "name": "stdout",
     "output_type": "stream",
     "text": [
      "P: [pqarray([60.8±1.0 pascal (1.61%), 121.6±1.0 pascal (0.81%),\n",
      "         207.9±1.0 pascal (0.47%), 300.1±1.0 pascal (0.33%)], dtype=object), pqarray([39.2±1.0 pascal (2.50%), 66.7±1.0 pascal (1.47%),\n",
      "         100.0±1.0 pascal (0.98%), 139.3±1.0 pascal (0.70%)], dtype=object)]\n"
     ]
    }
   ],
   "source": [
    "Q_exper_s = [ml.PQ(1*u.l/(16.40*u.s), sigma=0.01), ml.PQ(1*u.l/(12.03*u.s), sigma=0.01)]\n",
    "ticks_s = [np.array([ml.PQ(val, sigma=0.5) for val in \n",
    "                     [31, 62, 106, 153]]),\n",
    "           np.array([ml.PQ(val, sigma=0.5) for val in \n",
    "                     [20, 34, 51, 71]])]\n",
    "P_s = [ml.repr_ndarray_as(ticks*manom_coef*k, u.pascal) for ticks in ticks_s]\n",
    "print('P:', P_s)\n"
   ]
  },
  {
   "cell_type": "code",
   "execution_count": 48,
   "metadata": {},
   "outputs": [
    {
     "name": "stdout",
     "output_type": "stream",
     "text": [
      "[0.00±0.10 pascal (1000000.00%) 60.8±1.4 pascal (2.28%)\n",
      " 86.3±1.4 pascal (1.61%) 92.2±1.4 pascal (1.50%)]\n"
     ]
    },
    {
     "data": {
      "image/png": "[encoded data removed]",
      "text/plain": [
       "<matplotlib.figure.Figure at 0x7faa79312d30>"
      ]
     },
     "metadata": {},
     "output_type": "display_data"
    },
    {
     "data": {
      "image/png": "[encoded data removed]",
      "text/plain": [
       "<matplotlib.figure.Figure at 0x7faa7c1faa58>"
      ]
     },
     "metadata": {},
     "output_type": "display_data"
    },
    {
     "name": "stdout",
     "output_type": "stream",
     "text": [
      "[0.00±0.10 pascal (1000000.00%) 27.5±1.4 pascal (5.05%)\n",
      " 33.3±1.4 pascal (4.16%) 39.2±1.4 pascal (3.54%)]\n"
     ]
    },
    {
     "data": {
      "image/png": "[encoded data removed]",
      "text/plain": [
       "<matplotlib.figure.Figure at 0x7faa791cd2b0>"
      ]
     },
     "metadata": {},
     "output_type": "display_data"
    },
    {
     "data": {
      "image/png": "[encoded data removed]",
      "text/plain": [
       "<matplotlib.figure.Figure at 0x7faa79143748>"
      ]
     },
     "metadata": {},
     "output_type": "display_data"
    }
   ],
   "source": [
    "for delta_l, l, P in zip(delta_l_s, l_s, P_s):\n",
    "    delta_P = ml.pqarray([ml.PQ(0.00001*u.pascals, sigma=0.1*u.pascal, dim=u.pascal)]+list(P[1:]-P[:-1]))\n",
    "    print(delta_P)\n",
    "    ml.plt_pq(delta_l, delta_P)\n",
    "    plt.show()\n",
    "    #ml.plt_pq(delta_l, dP)\n",
    "    #plt.show()\n",
    "    ml.plt_pq(l, P)\n",
    "    plt.show()"
   ]
  },
  {
   "cell_type": "code",
   "execution_count": null,
   "metadata": {
    "collapsed": true
   },
   "outputs": [],
   "source": []
  },
  {
   "cell_type": "code",
   "execution_count": null,
   "metadata": {
    "collapsed": true
   },
   "outputs": [],
   "source": []
  }
 ],
 "metadata": {
  "kernelspec": {
   "display_name": "Python 3",
   "language": "python",
   "name": "python3"
  },
  "language_info": {
   "codemirror_mode": {
    "name": "ipython",
    "version": 3
   },
   "file_extension": ".py",
   "mimetype": "text/x-python",
   "name": "python",
   "nbconvert_exporter": "python",
   "pygments_lexer": "ipython3",
   "version": "3.6.0"
  }
 },
 "nbformat": 4,
 "nbformat_minor": 2
}
